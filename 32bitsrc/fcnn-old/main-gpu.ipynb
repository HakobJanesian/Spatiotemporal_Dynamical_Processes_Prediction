{
 "cells": [
  {
   "cell_type": "code",
   "execution_count": 17,
   "id": "5663c8db",
   "metadata": {
    "colab": {
     "base_uri": "https://localhost:8080/"
    },
    "id": "5663c8db",
    "outputId": "7d8ac497-e64c-4651-d0a8-940525f10cb9"
   },
   "outputs": [
    {
     "name": "stderr",
     "output_type": "stream",
     "text": [
      "Enabling notebook extension jupyter-js-widgets/extension...\n",
      "      - Validating: ok\n"
     ]
    }
   ],
   "source": [
    "!jupyter nbextension enable --py widgetsnbextension\n"
   ]
  },
  {
   "cell_type": "code",
   "execution_count": 18,
   "metadata": {},
   "outputs": [],
   "source": [
    "import sys\n",
    "import os\n",
    "from pathlib import Path\n",
    "\n",
    "# Add parent directory temporarily to sys.path\n",
    "sys.path.insert(0, str(Path(os.getcwd()).resolve().parent))"
   ]
  },
  {
   "cell_type": "code",
   "execution_count": 19,
   "id": "326e00db",
   "metadata": {
    "colab": {
     "base_uri": "https://localhost:8080/"
    },
    "id": "326e00db",
    "outputId": "32ce64ff-b91e-4127-fd79-46183bd95faf"
   },
   "outputs": [
    {
     "data": {
      "text/plain": [
       "device(type='cuda', index=0)"
      ]
     },
     "execution_count": 19,
     "metadata": {},
     "output_type": "execute_result"
    }
   ],
   "source": [
    "from __future__ import annotations\n",
    "import cv2\n",
    "import torch\n",
    "import torch.nn as nn\n",
    "import numpy as np\n",
    "import matplotlib.pyplot as plt\n",
    "import torch.nn.functional as F\n",
    "from lib.State import State\n",
    "\n",
    "from tqdm.notebook import tqdm\n",
    "\n",
    "from lib.utils.utils import *\n",
    "\n",
    "import warnings\n",
    "warnings.filterwarnings('ignore')\n",
    "\n",
    "EPOCHS = 20_000\n",
    "LR = 1\n",
    "\n",
    "device = torch.device(\"cuda:0\" if torch.cuda.is_available() else \"cpu\")\n",
    "device"
   ]
  },
  {
   "cell_type": "code",
   "execution_count": 33,
   "id": "c86852a0",
   "metadata": {
    "scrolled": true
   },
   "outputs": [
    {
     "name": "stderr",
     "output_type": "stream",
     "text": [
      "100%|██████████| 500/500 [00:52<00:00,  9.55it/s]\n"
     ]
    },
    {
     "name": "stdout",
     "output_type": "stream",
     "text": [
      "Unique Myus count\t 400\n",
      "Max value of myu:\t 121.80390600745552\n",
      "Min value of myu:\t 21.841687164812154\n",
      "Unique values: [21.841687164812154, 23.009040191453206, 27.58798095569376, 28.596628485566292, 29.813741848646277, 29.827199100610592, 31.065071505241868, 31.603009497495837, 31.88124086517815, 33.61431686156065, 34.17041925745116, 34.21923912649841, 34.375065800420124, 34.48106132581881, 34.56093676069717, 35.09174364784749, 35.60701686454186, 35.68218877373676, 35.85886076968288, 35.85937948840952, 35.896216473141834, 36.75494158224988, 37.02864287053089, 37.04622304666243, 37.19247013241883, 37.24931298816487, 37.359270372192285, 37.36554733180018, 37.52804379074024, 37.57260175431684, 37.9001300899777, 38.2547862344231, 38.27347312162001, 38.88654669848664, 39.519916759125124, 39.604999555974324, 39.9231756933596, 40.403393621893414, 40.427156868939136, 40.478853264411924, 40.68736914752687, 40.70708381075805, 40.77070731420898, 41.77596767584717, 41.822325333468235, 42.221034305112276, 42.26052140754118, 42.299937419434706, 43.05756207168323, 43.24760846995792, 43.679664285423996, 43.69939308511897, 43.753363670372714, 43.860501520678824, 43.96792616748572, 44.131514613097, 44.38928809441283, 44.64166695288626, 44.67189957993577, 44.830213398452756, 44.845499971919864, 45.05815969328097, 45.12620399870904, 45.157753487546685, 45.52025360423528, 45.58000258395727, 45.936436551972896, 45.987733413536446, 46.24400614542866, 46.24833843597082, 46.26690181519635, 46.607392113850054, 47.052296613174114, 47.076814165092564, 47.41036801960884, 47.436045539496995, 47.58720219369401, 47.710088096561456, 47.76432386340371, 47.84892706199629, 47.87332512211253, 48.04973296121568, 48.15505793419179, 48.210460656455794, 48.3644448135528, 48.3655377185703, 48.38754478885439, 48.40265993376466, 48.45730068690404, 48.53796671020059, 48.64656572966751, 48.67068120615301, 48.676888260215726, 48.763882123281824, 48.76846319805255, 48.8334970909714, 48.924872682665466, 48.94081687116356, 49.19134071792505, 49.24367785201386, 49.245819111804046, 49.2765657047752, 49.28524332778978, 49.31215801513902, 49.33108518051292, 49.532149462538634, 49.53290091460472, 49.76174588567153, 49.94954098859603, 50.2576626585797, 50.32473718921847, 50.44369917729737, 50.67084705097741, 50.74769852383543, 50.81013343826598, 50.90810487271212, 50.96970942496061, 51.05834108215504, 51.1190081545073, 51.22146561098999, 51.241033668892605, 51.430086734540424, 51.43572425735432, 51.443946669041416, 51.45996928603782, 51.538484190755725, 51.68194826838093, 51.775557705945175, 51.80089933009744, 52.02602883875635, 52.10700432985557, 52.16830520929836, 52.28407674361859, 52.452296753499944, 52.46994637761988, 52.61825441223665, 52.86290732858703, 52.91632655704908, 53.10401771767258, 53.117031325755576, 53.13192515228255, 53.42580248854541, 53.46960736878654, 53.53632954870041, 53.81577306378532, 54.36746057705184, 54.44111878149753, 54.65619649435992, 54.6829986222362, 54.9739921377122, 55.12877989152939, 55.14987205756386, 55.289492012311335, 55.30356444810648, 55.33999973425667, 55.43562266557849, 55.667851745603265, 55.831314126446095, 56.01137830863642, 56.20676905089182, 56.296870482690885, 56.42137997456374, 56.46381635180041, 56.528578857189736, 56.54747529997455, 56.54923638293285, 56.559808822026405, 56.797612815022376, 57.06839060892531, 57.111291697478656, 57.2482872054178, 57.286174254275515, 57.56176928245932, 57.595636531145736, 57.717570409047916, 57.77399893631996, 57.900677508210165, 57.90650138957514, 57.940195412539204, 58.0520315699607, 58.100809270936104, 58.119917246425885, 58.23143753389451, 58.300588960521424, 58.32868966195717, 58.3362027022671, 58.420188729929976, 58.685425924785875, 58.796727812331405, 59.10281661672763, 59.16122411307451, 59.169440972655494, 59.31432039585168, 59.33351334072644, 59.64885530746524, 59.748054819119815, 59.781833841923536, 59.792775063332485, 59.82230140857583, 60.392704947691506, 60.5857348174756, 60.62820430629501, 60.64168003055384, 60.720046226725955, 60.752503108835015, 60.785775103175155, 60.922866128937116, 60.92937640296613, 61.102437023182446, 61.215417679606354, 61.37566963460293, 61.43770738474606, 61.48702528832784, 61.52442325123935, 61.66334556031336, 61.84465570103504, 61.943454575555016, 61.96501180985094, 62.01226249212282, 62.35932091417354, 62.546313339358136, 62.63517869643102, 62.875660449940874, 62.98938888793104, 63.17126468207393, 63.17850079341826, 63.249880526348946, 63.27262777542687, 63.29697649973443, 63.36395705759328, 63.43175895797167, 63.49081894399404, 63.67713994802363, 63.73622463782277, 63.74400631897773, 63.87810255831387, 64.05414023594744, 64.14659495112487, 64.21196576881974, 64.4069140810429, 64.47390293877912, 64.51404848902129, 64.88013229482216, 64.91903078353783, 64.96380285305045, 64.9851912769003, 65.00817838529062, 65.17600106754401, 65.22046638734484, 65.28265301311605, 65.29079841142644, 65.47216066242353, 65.47620378929068, 65.56704243934949, 65.59123277647309, 65.82774885938912, 65.90522748483859, 66.26218339532609, 66.3638353937499, 66.46397026815636, 66.48413001183248, 66.52395340558455, 66.72748611432007, 66.8361992627194, 67.04802895702292, 67.2791495449277, 67.56237632835582, 67.77145932941632, 67.77906238754501, 67.85833122404003, 68.0351888430631, 68.04353137793149, 68.17196198382413, 68.18022615683519, 68.18927462053273, 68.20553470444251, 68.32956631871784, 68.41358829178976, 68.48931534238183, 68.51017087353831, 68.56780495866705, 68.60343511097304, 68.65718559850943, 68.67967779701566, 68.69097554738069, 69.07576672716442, 69.13006825070006, 69.15593960032642, 69.16921334697905, 69.28761825816868, 69.35277484801465, 69.63786286545874, 69.75195235931956, 69.83700985364703, 70.15240741530481, 70.20145373375789, 70.25479153285386, 70.43390572488788, 70.63210541729713, 70.67831969342807, 70.70002811845832, 70.92777078724369, 70.95406925352522, 71.00988281356811, 71.68804343889467, 71.97889836373943, 72.09561635937268, 72.10979049490044, 72.13765215834593, 72.20955281887308, 72.24885307676121, 72.30964286207478, 72.3386066039762, 72.36365805592538, 72.4180468376604, 72.46314655157941, 72.56324308480494, 72.9431885635279, 73.0451495255541, 73.2644263661458, 73.30247494141256, 73.32744083352007, 73.37842440405873, 73.45594096670531, 73.9181247738142, 74.11737156765945, 74.15451752168602, 74.16636873408152, 74.22284126299392, 74.31984061703382, 74.76602992793295, 74.80675116600808, 75.00412663432381, 75.03606976940372, 75.0987987641833, 75.15618218531067, 75.48742477938596, 75.49766409820147, 76.9473971281793, 77.23388142579714, 77.51331062064503, 77.67698489736703, 78.05885516140914, 78.29518530331421, 78.35515216871194, 78.61785050036832, 78.69430315655293, 78.72365563206561, 78.93382381294671, 79.04849442903783, 79.06757632580613, 79.14937680901794, 79.20220659844026, 79.21500061241899, 79.56678379997399, 79.76777416661287, 79.80025002538758, 79.85728230408418, 79.86160873696112, 80.00116951197433, 80.02081254619674, 80.05710746155783, 80.2360999205226, 81.29450377900342, 81.65282220678321, 82.04266053411122, 82.70099631570162, 82.86925064037726, 82.89804340333903, 82.9540145250717, 83.1638669027356, 83.90951216124898, 83.91655785054556, 84.16342183708275, 85.35627209529382, 85.61811505853643, 86.00857453735482, 86.02181348572513, 86.27073354298815, 86.88102652417449, 87.14789929999192, 87.5966903004194, 87.6719611397025, 88.50498677970803, 88.57719968885932, 88.6780635556984, 89.9873585388715, 90.82395047390489, 91.85580529810818, 91.96536759344256, 93.20145622888651, 93.2463908955122, 94.27093834714887, 95.22033818512001, 98.83461905277012, 98.85197228271444, 99.74743420766531, 100.9364301203479, 115.34238453945646, 121.80390600745552]\n",
      "Counts:\t\t [327680 327680 327680 327680 327680 327680 327680 327680 327680 327680\n",
      " 327680 327680 327680 327680 327680 327680 327680 327680 327680 327680\n",
      " 327680 327680 327680 327680 327680 327680 327680 327680 327680 327680\n",
      " 327680 327680 327680 327680 327680 327680 327680 327680 327680 327680\n",
      " 327680 327680 327680 327680 327680 327680 327680 327680 327680 327680\n",
      " 327680 327680 327680 327680 327680 327680 327680 327680 327680 327680\n",
      " 327680 327680 327680 327680 327680 327680 327680 327680 327680 327680\n",
      " 327680 327680 327680 327680 327680 327680 327680 327680 327680 327680\n",
      " 327680 327680 327680 327680 327680 327680 327680 327680 327680 327680\n",
      " 327680 327680 327680 327680 327680 327680 327680 327680 327680 327680\n",
      " 327680 327680 327680 327680 327680 327680 327680 327680 327680 327680\n",
      " 327680 327680 327680 327680 327680 327680 327680 327680 327680 327680\n",
      " 327680 327680 327680 327680 327680 327680 327680 327680 327680 327680\n",
      " 327680 327680 327680 327680 327680 327680 327680 327680 327680 327680\n",
      " 327680 327680 327680 327680 327680 327680 327680 327680 327680 327680\n",
      " 327680 327680 327680 327680 327680 327680 327680 327680 327680 327680\n",
      " 327680 327680 327680 327680 327680 327680 327680 327680 327680 327680\n",
      " 327680 327680 327680 327680 327680 327680 327680 327680 327680 327680\n",
      " 327680 327680 327680 327680 327680 327680 327680 327680 327680 327680\n",
      " 327680 327680 327680 327680 327680 327680 327680 327680 327680 327680\n",
      " 327680 327680 327680 327680 327680 327680 327680 327680 327680 327680\n",
      " 327680 327680 327680 327680 327680 327680 327680 327680 327680 327680\n",
      " 327680 327680 327680 327680 327680 327680 327680 327680 327680 327680\n",
      " 327680 327680 327680 327680 327680 327680 327680 327680 327680 327680\n",
      " 327680 327680 327680 327680 327680 327680 327680 327680 327680 327680\n",
      " 327680 327680 327680 327680 327680 327680 327680 327680 327680 327680\n",
      " 327680 327680 327680 327680 327680 327680 327680 327680 327680 327680\n",
      " 327680 327680 327680 327680 327680 327680 327680 327680 327680 327680\n",
      " 327680 327680 327680 327680 327680 327680 327680 327680 327680 327680\n",
      " 327680 327680 327680 327680 327680 327680 327680 327680 327680 327680\n",
      " 327680 327680 327680 327680 327680 327680 327680 327680 327680 327680\n",
      " 327680 327680 327680 327680 327680 327680 327680 327680 327680 327680\n",
      " 327680 327680 327680 327680 327680 327680 327680 327680 327680 327680\n",
      " 327680 327680 327680 327680 327680 327680 327680 327680 327680 327680\n",
      " 327680 327680 327680 327680 327680 327680 327680 327680 327680 327680\n",
      " 327680 327680 327680 327680 327680 327680 327680 327680 327680 327680\n",
      " 327680 327680 327680 327680 327680 327680 327680 327680 327680 327680\n",
      " 327680 327680 327680 327680 327680 327680 327680 327680 327680 327680\n",
      " 327680 327680 327680 327680 327680 327680 327680 327680 327680 327680\n",
      " 327680 327680 327680 327680 327680 327680 327680 327680 327680 327680]\n",
      "A.shape=(1, 500, 512, 512),\n",
      "Myu.shape=(1, 500, 512, 512),\n",
      "\n",
      "Any NaN values in Myu\t\t False\n",
      "Any NaN values in A_original\t False\n"
     ]
    }
   ],
   "source": [
    "\n",
    "Nx = 512\n",
    "Ny = 512\n",
    "\n",
    "Lx = 50\n",
    "Ly = 50\n",
    "T_end = 1\n",
    "dt = 0.002\n",
    "\n",
    "myubatch_size = 1048576\n",
    "myu=4\n",
    "path = f\"main-gpu-N-{Nx}-L-{Lx}-Myu-{myu}\"\n",
    "mtlibpath_prefix = path + \"_mtl\"\n",
    "model_filepath = f\"./models/{path}.pt\"\n",
    "\n",
    "\n",
    "input_to_defect_ratio_sqrt = Nx // myu\n",
    "N_ITERATIONS = int(T_end / dt)\n",
    "A_norm, A_original, mem_rate, myu_original = compute_A_norm(\n",
    "    Nx=Nx, \n",
    "    Ny=Ny, \n",
    "    input_to_defect_ratio=input_to_defect_ratio_sqrt*input_to_defect_ratio_sqrt, \n",
    "    mean=5.4, \n",
    "    std_deviation=0.8, \n",
    "    time_period=25, \n",
    "    Lx=Lx, \n",
    "    Ly=Ly, \n",
    "    dt=dt, \n",
    "    T_End=T_end, \n",
    "    parallel_runs=1, \n",
    "    input_scale=0.75, \n",
    "    mem_coef=1, \n",
    "    time_period_parameter=20, \n",
    "    _mean=5.4, \n",
    "    std_deviation_run_computation=1,\n",
    "    input_myu=None\n",
    ")"
   ]
  },
  {
   "cell_type": "markdown",
   "id": "1D-Md_qQdSn-",
   "metadata": {
    "id": "1D-Md_qQdSn-"
   },
   "source": [
    "GETTING HANDS DIRTY WITH THE NEURAL NETWORKS"
   ]
  },
  {
   "cell_type": "code",
   "execution_count": 34,
   "id": "yp-gI3_HdVWJ",
   "metadata": {
    "id": "yp-gI3_HdVWJ"
   },
   "outputs": [],
   "source": [
    "x = np.linspace(-2, 2, Nx).flatten()[:, None]\n",
    "y = np.linspace(-2, 2, Ny).flatten()[:, None]\n",
    "t = np.linspace(0, T_end, N_ITERATIONS).flatten()[:, None]\n",
    "\n",
    "Exact = A_original.squeeze(0)\n",
    "\n",
    "X, T, Y = np.meshgrid(x, t, y)"
   ]
  },
  {
   "cell_type": "markdown",
   "id": "c9462a89",
   "metadata": {
    "id": "c9462a89"
   },
   "source": [
    "$$\n",
    "\\begin{aligned}\n",
    "\\partial_{t} A &= \\mu A+\\Delta A-|A|^{2} A\n",
    "\\end{aligned}\n",
    "$$"
   ]
  },
  {
   "cell_type": "code",
   "execution_count": 35,
   "id": "4036c8f1",
   "metadata": {},
   "outputs": [],
   "source": [
    "from itertools import chain\n",
    "from lib.nn.nets import XFCN\n",
    "from lib.CGL import MYULOSS, free_memory\n",
    "\n",
    "class ALLINPUTNET(XFCN):\n",
    "    def predict(self, x):\n",
    "        self.eval()\n",
    "        if type(x) is not torch.Tensor:\n",
    "            x = torch.tensor(x, dtype = torch.float32).to(device)\n",
    "        y =  self.forward(x).cpu().detach().numpy()\n",
    "        return y[:,0] + y[:,1]*1j    \n",
    "\n",
    "    def batch_predict(self, x, batch_size=65536, verbose=0):\n",
    "        self.eval()\n",
    "        \n",
    "        if type(x) is not torch.Tensor:\n",
    "            x = torch.tensor(x, dtype=torch.float32).to(device)\n",
    "\n",
    "        num_samples = x.shape[0]\n",
    "        num_batches = int(np.ceil(num_samples / batch_size))\n",
    "\n",
    "        predictions = []\n",
    "\n",
    "        if verbose == 1:\n",
    "            iterator = tqdm(range(num_batches), desc=\"Batch Prediction\")\n",
    "        else:\n",
    "            iterator = range(num_batches)\n",
    "\n",
    "        for i in iterator:\n",
    "            start_idx = i * batch_size\n",
    "            end_idx = min((i + 1) * batch_size, num_samples)\n",
    "\n",
    "            batch_x = x[start_idx:end_idx]\n",
    "            batch_y = self.forward(batch_x).cpu().detach().numpy()\n",
    "\n",
    "            predictions.append(batch_y)\n",
    "\n",
    "        return np.concatenate(predictions, axis=0)[:, 0] + np.concatenate(predictions, axis=0)[:, 1] * 1j\n",
    "\n",
    "    def msef(self, y, y_pred):\n",
    "        return torch.mean((y_pred - y)**2,dim = 0)       \n",
    "\n",
    "    def zero_grad(self, set_to_none: bool = False) -> None:\n",
    "        self.encoder._Wtmx.zero_grad()\n",
    "        self.shuffler._Wtmx.zero_grad()\n",
    "        self.decoder._Wtmx.zero_grad()\n",
    "        return super().zero_grad(set_to_none)\n",
    "\n",
    "    def y_proc(y):\n",
    "        MS = y[:,1] * y[:,0]\n",
    "        IR = y[:,1] ** 2 +  y[:,0] ** 2\n",
    "        return torch.vstack((MS,IR)).T\n",
    "        \n",
    "    def fastmsebatchtrain(self, state, epochs = 100, batch_size = 64, verbose = 2, is_simulation = False, device = \"cpu\"):\n",
    "\n",
    "        L = []\n",
    "        for s in state.generate_batches(nbatches = epochs, batch_size = batch_size, verbose = verbose):\n",
    "            self.optimizer.zero_grad()\n",
    "            x = s.get_2d_tensor_xyt(device = device).T\n",
    "            y = s.get_2d_tensor_state(device = device).T\n",
    "            y_pred = self.forward(x)\n",
    "            loss = self.msef(\n",
    "                y_pred if is_simulation else ALLINPUTNET.y_proc(y_pred)\n",
    "                ,y) \n",
    "            L.append(loss.cpu().detach().numpy())\n",
    "            torch.mean(loss).backward()\n",
    "            self.optimizer.step()\n",
    "\n",
    "        return np.array(L)    "
   ]
  },
  {
   "cell_type": "code",
   "execution_count": 36,
   "metadata": {},
   "outputs": [],
   "source": [
    "\n",
    "class PINN(ALLINPUTNET):\n",
    "    def __init__(self,*args, device = 'cpu', **kwargs):\n",
    "        super(PINN, self).__init__(*args, device = device, **kwargs)\n",
    "        self.device = device \n",
    "        self.myureset()\n",
    "        self.myuoptimizer = torch.optim.Adam( params = [self.myuparam], lr=0.01)\n",
    "\n",
    "    \n",
    "    def myureset(self):\n",
    "        myu = torch.randn(mem_rate, Nx//input_to_defect_ratio_sqrt, Ny//input_to_defect_ratio_sqrt, dtype=torch.float32).to(self.device)\n",
    "        myu = nn.Parameter(myu)\n",
    "        self.myuparam = myu\n",
    "        \n",
    "    @property\n",
    "    def myu(self):\n",
    "        myu = F.interpolate(self.myuparam.unsqueeze(0), scale_factor=input_to_defect_ratio_sqrt, mode='nearest').squeeze()\n",
    "        return myu\n",
    "    \n",
    "    def loaddata_precalculate(self,state):\n",
    "        myuloss = MYULOSS.MYUCACHE(self, state)\n",
    "        myuloss.calculate_f_withoutmyu()\n",
    "        self.myuloss = myuloss\n",
    "    \n",
    "    def fmsef(self, myu):\n",
    "        return self.myuloss.fmse(myu)\n",
    "    \n",
    "    def fmse(self):\n",
    "        return self.fmsef(self.myu)\n",
    "    \n",
    "    def myutrain(self, epochs=100, lr = 0.01):\n",
    "        \n",
    "        myuoptimizer = torch.optim.Adam( params = [self.myuparam], lr=lr ) \n",
    "        myuoptimizer.zero_grad()\n",
    "\n",
    "        for _ in tqdm(range(epochs)):\n",
    "            self.fmse().backward(retain_graph=True)\n",
    "            myuoptimizer.step()\n",
    "            myuoptimizer.zero_grad()\n",
    "        \n",
    "        FMSE = self.myuloss.FMSE\n",
    "        self.myuloss.clear()\n",
    "        return FMSE\n",
    "\n",
    "\n",
    "    def fastmyumsebatchtrain(self, state, epochs = 100, batch_size = 64, verbose = 2, is_simulation = False):\n",
    "        L = []\n",
    "        for s in state.generate_batches(nbatches = epochs, batch_size = batch_size, verbose = verbose):\n",
    "            s.myu = self.myu.flatten()[s.shuffled_indices][s.slice]\n",
    "            self.optimizer.zero_grad()\n",
    "            self.myuoptimizer.zero_grad()\n",
    "            y = s.get_2d_tensor_state().T\n",
    "            f, y_pred = MYULOSS.net_f(self,s)\n",
    "            MS, RI = self.msef(\n",
    "                    y_pred if is_simulation else ALLINPUTNET.y_proc(y_pred)\n",
    "                ,y)\n",
    "            FMSE = torch.mean(torch.abs(f) ** 2) / torch.mean(y_pred**2)\n",
    "            L.append(\n",
    "                (MS.cpu().detach().numpy(),\n",
    "                RI.cpu().detach().numpy(),\n",
    "                FMSE.cpu().detach().numpy())\n",
    "                )\n",
    "            (FMSE + MS + RI).backward(retain_graph=True)\n",
    "            self.optimizer.step()\n",
    "            self.myuoptimizer.step()\n",
    "            free_memory(FMSE, MS, RI, f, y_pred)\n",
    "\n",
    "        return np.array(L)\n",
    "\n",
    "    def fastmyuonlymsebatchtrain(self, state, epochs = 100, batch_size = 64, verbose = 2, is_simulation = False):\n",
    "        L = []\n",
    "        for s in state.generate_batches(nbatches = epochs, batch_size = batch_size, verbose = verbose):\n",
    "            self.myuoptimizer.zero_grad()\n",
    "            f, y_pred = MYULOSS.net_f(self,s)\n",
    "            y = s.get_2d_tensor_state().T\n",
    "            FMSE = torch.mean(torch.abs(f) ** 2)\n",
    "            FMSE.backward(retain_graph=True)\n",
    "            MS, RI = self.msef(\n",
    "                 y_pred if is_simulation else ALLINPUTNET.y_proc(y_pred)\n",
    "                ,y)\n",
    "            L.append(\n",
    "                (MS.cpu().detach().numpy(),\n",
    "                RI.cpu().detach().numpy(),\n",
    "                FMSE.cpu().detach().numpy())\n",
    "                )\n",
    "            self.myuoptimizer.step()\n",
    "            free_memory(FMSE, MS, RI, f, y_pred)\n",
    "\n",
    "        return np.array(L)\n",
    "    \n",
    "    def save_model(self, file_path):\n",
    "        model_state = {\n",
    "            'state_dict': self.state_dict(),\n",
    "            # Add any additional states here if needed\n",
    "        }\n",
    "        torch.save(model_state, file_path)\n",
    "        print(f'Model saved to {file_path}')\n",
    "\n",
    "    def load_model(self, file_path, device='cpu'):\n",
    "        model_state = torch.load(file_path, map_location=device)\n",
    "        self.load_state_dict(model_state['state_dict'])\n",
    "        # Restore any additional states here if needed\n",
    "        print(f'Model loaded from {file_path}')"
   ]
  },
  {
   "cell_type": "markdown",
   "metadata": {},
   "source": [
    "## Training the model and get approximate myus"
   ]
  },
  {
   "cell_type": "code",
   "execution_count": 37,
   "id": "315c3bfa",
   "metadata": {},
   "outputs": [],
   "source": [
    "torch.manual_seed(0)\n",
    "net = PINN([3, 128, 128, 128, 2]).to(device)\n",
    "net.device = device\n",
    "state_simulation = State(state = A_original[0], xyt = np.array([X, Y, T]))\n",
    "MS = np.abs(A_original)**2\n",
    "RI = np.real(A_original)*np.imag(A_original)\n",
    "state_experiment = State(state = (MS + RI*1j)[0], xyt = np.array([X, Y, T]))\n",
    "\n",
    "state = state_simulation\n",
    "is_simulation = True"
   ]
  },
  {
   "cell_type": "code",
   "execution_count": 38,
   "metadata": {},
   "outputs": [
    {
     "name": "stderr",
     "output_type": "stream",
     "text": [
      "100%|██████████| 50000/50000 [01:51<00:00, 448.84it/s]\n"
     ]
    }
   ],
   "source": [
    "net.optimizer.param_groups[0]['lr'] = 1e-2\n",
    "L = net.fastmsebatchtrain(state = state, epochs = 50000, batch_size = 16384, is_simulation = is_simulation, verbose = 1, device = device)\n"
   ]
  },
  {
   "cell_type": "code",
   "execution_count": 39,
   "metadata": {},
   "outputs": [
    {
     "data": {
      "image/png": "[encoded data removed]",
      "text/plain": [
       "<Figure size 640x480 with 1 Axes>"
      ]
     },
     "metadata": {},
     "output_type": "display_data"
    }
   ],
   "source": [
    "plt.plot(L.sum(axis=1))\n",
    "plt.yscale('log')\n",
    "plt.xlabel('epochs')\n",
    "plt.ylabel('Custom Loss')\n",
    "plt.title('Training of the AllInputNet \\n lr=0.01')\n",
    "plt.savefig(f'{mtlibpath_prefix}_allinputnet001.png')"
   ]
  },
  {
   "cell_type": "code",
   "execution_count": 40,
   "metadata": {},
   "outputs": [
    {
     "name": "stderr",
     "output_type": "stream",
     "text": [
      "100%|██████████| 50000/50000 [01:50<00:00, 452.44it/s]\n"
     ]
    }
   ],
   "source": [
    "net.optimizer.param_groups[0]['lr'] = 1e-3\n",
    "L = net.fastmsebatchtrain(state = state, epochs = 50000, batch_size = 16384, is_simulation = is_simulation, verbose = 1, device = device)\n"
   ]
  },
  {
   "cell_type": "code",
   "execution_count": 41,
   "metadata": {},
   "outputs": [
    {
     "data": {
      "image/png": "[encoded data removed]",
      "text/plain": [
       "<Figure size 640x480 with 1 Axes>"
      ]
     },
     "metadata": {},
     "output_type": "display_data"
    }
   ],
   "source": [
    "plt.plot(L.sum(axis=1))\n",
    "plt.yscale('log')\n",
    "plt.xlabel('epochs')\n",
    "plt.ylabel('Custom Loss')\n",
    "plt.title('Training of the AllInputNet \\n lr=0.001')\n",
    "plt.savefig(f'{mtlibpath_prefix}_allinputnet0001.png')"
   ]
  },
  {
   "cell_type": "markdown",
   "id": "ea994c61",
   "metadata": {},
   "source": [
    "## calculating myus"
   ]
  },
  {
   "cell_type": "code",
   "execution_count": 43,
   "id": "f24c8864",
   "metadata": {
    "scrolled": false
   },
   "outputs": [
    {
     "name": "stderr",
     "output_type": "stream",
     "text": [
      "Processed up to index 131072000: 100%|██████████| 32000/32000 [03:07<00:00, 171.06it/s]\n"
     ]
    }
   ],
   "source": [
    "torch.cuda.empty_cache()\n",
    "\n",
    "net = net.to(device)\n",
    "net.loaddata_precalculate(state)\n"
   ]
  },
  {
   "cell_type": "code",
   "execution_count": 44,
   "id": "f6e31092",
   "metadata": {},
   "outputs": [
    {
     "name": "stderr",
     "output_type": "stream",
     "text": [
      "100%|██████████| 100/100 [00:16<00:00,  6.14it/s]\n",
      "100%|██████████| 100/100 [00:09<00:00, 10.47it/s]\n",
      "100%|██████████| 100/100 [00:09<00:00, 10.51it/s]\n",
      "100%|██████████| 100/100 [00:09<00:00, 10.55it/s]\n"
     ]
    },
    {
     "name": "stdout",
     "output_type": "stream",
     "text": [
      "tensor([[164.0546, 169.8022, 146.1848, 138.1931],\n",
      "        [174.2413, 156.4657, 165.7989, 144.8388],\n",
      "        [178.6148, 150.5705, 177.2852, 147.4147],\n",
      "        [144.3729, 147.2198, 167.1976, 156.6519]], device='cuda:0',\n",
      "       grad_fn=<SelectBackward0>)\n"
     ]
    },
    {
     "data": {
      "image/png": "[encoded data removed]",
      "text/plain": [
       "<Figure size 640x480 with 1 Axes>"
      ]
     },
     "metadata": {},
     "output_type": "display_data"
    }
   ],
   "source": [
    "i = 0\n",
    "for lr in [10,1,1e-1,1e-2]:\n",
    "    L = net.myutrain(lr=lr, epochs=100)    \n",
    "    l = net.fmse().cpu().detach().numpy()\n",
    "    L += [l]\n",
    "    net.myuloss.clear()\n",
    " \n",
    "    plt.plot(range(i,i+len(L)), L, label=f'lr={lr}')\n",
    "    i+=len(L)-1\n",
    "    \n",
    "print(net.myuparam[-1])\n",
    "\n",
    "plt.yscale('log')\n",
    "plt.legend()\n",
    "plt.xlabel('epochs')\n",
    "plt.ylabel('FMSE')\n",
    "plt.title('MYU Training')\n",
    "plt.tight_layout()\n",
    "plt.savefig(f'{mtlibpath_prefix}_myutraining.png')\n",
    "plt.show()"
   ]
  },
  {
   "cell_type": "markdown",
   "id": "06b2c683",
   "metadata": {},
   "source": [
    "## Visualizing and saving plot gifs"
   ]
  },
  {
   "cell_type": "code",
   "execution_count": 45,
   "id": "a85e3095",
   "metadata": {},
   "outputs": [],
   "source": [
    "def process_subframe(fig, ax, m, title):\n",
    "    \n",
    "    im = ax.imshow(m)\n",
    "    ax.title.set_position([.5, 1.05])\n",
    "    im = fig.colorbar(im, ax=ax, fraction=0.046, pad=0.04)\n",
    "    ax.set_title(title)\n",
    "    \n",
    "def process_frame(M, titles):\n",
    "    figsize = (M.shape[0], M.shape[1])\n",
    "    fig, axs = plt.subplots(*figsize, figsize=(18, 6))\n",
    "    \n",
    "    # Draw\n",
    "    for i in range(figsize[0]):\n",
    "        for j in range(figsize[1]):\n",
    "            ax = axs[i][j]\n",
    "            process_subframe(fig,axs[i][j], M[i][j],titles[i][j])\n",
    "            \n",
    "    # Draw the figure and store the image\n",
    "    fig.canvas.draw()\n",
    "    image = np.frombuffer(fig.canvas.tostring_rgb(), dtype='uint8')\n",
    "    image = image.reshape(fig.canvas.get_width_height()[::-1] + (3,))\n",
    "\n",
    "    plt.close(fig)\n",
    "    \n",
    "    return image   \n",
    "\n",
    "def create_video(M,titles, videotitle, save=True, fps=30):\n",
    "    \n",
    "    \n",
    "    num_cores = multiprocessing.cpu_count()\n",
    "#    images = Parallel(n_jobs=num_cores)(delayed(process_frame)((m,titles) for m in tqdm(M)))\n",
    "    images = [process_frame(m,titles) for m in M]\n",
    "    if save:\n",
    "        images_to_video(images, videotitle, fps=30)\n",
    "        print(\"Video successfully saved at\", videotitle)\n",
    "    \n",
    "    return None\n",
    "\n",
    "def create_video(M,titles, videotitle, save=True, fps=30):\n",
    "    \n",
    "    \n",
    "    images = [process_frame(m,titles) for m in M]\n",
    "    #Parallel(n_jobs=num_cores)(delayed(process_frame)(m, titles) for m in tqdm(M))\n",
    "    if save:\n",
    "        # Convert images to 8-bit color for video\n",
    "        images = [cv2.cvtColor(img, cv2.COLOR_RGB2BGR) for img in images]\n",
    "        height, width, _ = images[0].shape\n",
    "        video = cv2.VideoWriter(videotitle, cv2.VideoWriter_fourcc(*'mp4v'), fps, (width, height))\n",
    "        for img in images:\n",
    "            video.write(img)\n",
    "        video.release()\n",
    "        print(\"Video successfully saved at\", videotitle)\n",
    "    \n",
    "    return None"
   ]
  },
  {
   "cell_type": "code",
   "execution_count": 54,
   "id": "85d820d0",
   "metadata": {},
   "outputs": [],
   "source": [
    "module_sq = lambda a: np.real(a)**2 + np.imag(a)**2\n",
    "phase = lambda a: np.arcsin(np.real(a)/np.sqrt(np.real(a)**2+np.imag(a)**2))\n",
    "real_imag = lambda a: np.real(a)*np.imag(a)\n",
    "real = lambda a: np.real(a)\n",
    "imag = lambda a: np.imag(a)\n",
    "\n",
    "funlist_name = [\"module_sq\", \"phase\",\"real_imag\",\"real\",\"imag\"]\n",
    "funlist = [module_sq, phase, real_imag, real, imag]\n",
    "\n",
    "myu = myu_original[0]\n",
    "myupred = net.myu.cpu().detach().numpy()\n",
    "\n",
    "A_pred = net.batch_predict(state.flatten().get_2d_tensor_xyt(device = device).T).reshape(A_original[0].shape)"
   ]
  },
  {
   "cell_type": "code",
   "execution_count": 55,
   "id": "4f9c59c1",
   "metadata": {},
   "outputs": [],
   "source": [
    "ATenzor = np.array([np.stack([\n",
    "                    np.stack([fun(A) for fun in funlist]),\n",
    "                    np.stack([fun(Ap) for fun in funlist])\n",
    "                    ]) for A, Ap in zip(A_original[0], A_pred)])\n",
    "                    "
   ]
  },
  {
   "cell_type": "code",
   "execution_count": 56,
   "id": "82f95739",
   "metadata": {},
   "outputs": [],
   "source": [
    "MTenzor = np.array([np.array([m,mp]) for m, mp in zip(myu,myupred)])"
   ]
  },
  {
   "cell_type": "code",
   "execution_count": 57,
   "id": "d4af55d0",
   "metadata": {},
   "outputs": [],
   "source": [
    "AMTenzor = np.concatenate((MTenzor[:, :, np.newaxis, :, :], ATenzor), axis=2)"
   ]
  },
  {
   "cell_type": "code",
   "execution_count": 58,
   "id": "ae2d619f",
   "metadata": {},
   "outputs": [
    {
     "name": "stdout",
     "output_type": "stream",
     "text": [
      "Video successfully saved at main-gpu-N-512-L-50-Myu-4.mp4\n"
     ]
    }
   ],
   "source": [
    "create_video(AMTenzor, titles=[['myu'] + funlist_name] * 2, videotitle = path+'.mp4')"
   ]
  },
  {
   "cell_type": "code",
   "execution_count": null,
   "metadata": {},
   "outputs": [],
   "source": []
  },
  {
   "cell_type": "code",
   "execution_count": null,
   "metadata": {},
   "outputs": [],
   "source": []
  }
 ],
 "metadata": {
  "colab": {
   "provenance": []
  },
  "kernelspec": {
   "display_name": "Python 3 (ipykernel)",
   "language": "python",
   "name": "python3"
  },
  "language_info": {
   "codemirror_mode": {
    "name": "ipython",
    "version": 3
   },
   "file_extension": ".py",
   "mimetype": "text/x-python",
   "name": "python",
   "nbconvert_exporter": "python",
   "pygments_lexer": "ipython3",
   "version": "3.11.5"
  }
 },
 "nbformat": 4,
 "nbformat_minor": 5
}
