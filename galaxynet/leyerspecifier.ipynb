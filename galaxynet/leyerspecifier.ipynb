{
 "cells": [
  {
   "cell_type": "code",
   "execution_count": 131,
   "id": "5a3d9d2c",
   "metadata": {},
   "outputs": [],
   "source": [
    "import numpy as np"
   ]
  },
  {
   "cell_type": "code",
   "execution_count": 132,
   "id": "e414b512",
   "metadata": {},
   "outputs": [],
   "source": [
    "def score(seq):\n",
    "    seq = np.append([2],seq)\n",
    "    seq = np.append(seq,[3])\n",
    "    return np.sum(seq[1:] * (np.cumsum(seq)[:-1] + 1))"
   ]
  },
  {
   "cell_type": "code",
   "execution_count": 133,
   "id": "496950be",
   "metadata": {},
   "outputs": [],
   "source": [
    "def ngenerate(seq):\n",
    "    #if len(seq) < 7:\n",
    "    return list(np.eye(len(seq), dtype = int)  + seq) +  [np.append(seq,[1])] + [np.append([1],seq)]\n",
    "    return list(np.eye(len(seq), dtype = int)  + seq)"
   ]
  },
  {
   "cell_type": "code",
   "execution_count": 134,
   "id": "758e137e",
   "metadata": {},
   "outputs": [],
   "source": [
    "start = np.array([1,1])\n",
    "prev = start\n",
    "for _ in range(98):\n",
    "    Nlist = ngenerate(prev)\n",
    "    scorelist = [score(seq) for seq in Nlist]\n",
    "    prev = Nlist[np.argmax(scorelist)]"
   ]
  },
  {
   "cell_type": "code",
   "execution_count": 136,
   "id": "bdf4c64e",
   "metadata": {},
   "outputs": [
    {
     "data": {
      "text/plain": [
       "5559"
      ]
     },
     "execution_count": 136,
     "metadata": {},
     "output_type": "execute_result"
    }
   ],
   "source": [
    "score(prev)"
   ]
  },
  {
   "cell_type": "code",
   "execution_count": 137,
   "id": "4034d8a2",
   "metadata": {},
   "outputs": [
    {
     "data": {
      "text/plain": [
       "3109"
      ]
     },
     "execution_count": 137,
     "metadata": {},
     "output_type": "execute_result"
    }
   ],
   "source": [
    "score([50,50])"
   ]
  },
  {
   "cell_type": "code",
   "execution_count": 138,
   "id": "27c51cdc",
   "metadata": {},
   "outputs": [
    {
     "data": {
      "text/plain": [
       "2500"
      ]
     },
     "execution_count": 138,
     "metadata": {},
     "output_type": "execute_result"
    }
   ],
   "source": [
    "50*50"
   ]
  },
  {
   "cell_type": "code",
   "execution_count": 142,
   "id": "96218f38",
   "metadata": {},
   "outputs": [
    {
     "data": {
      "text/plain": [
       "array([  1,   2,   3,   4,   5,   6,   7,   8,   9,  10,  11,  12,  13,\n",
       "        14,  15,  16,  17,  18,  19,  20,  21,  22,  23,  24,  25,  26,\n",
       "        27,  28,  29,  30,  31,  32,  33,  34,  35,  36,  37,  38,  39,\n",
       "        40,  41,  42,  43,  44,  45,  46,  47,  48,  49,  50,  51,  52,\n",
       "        53,  54,  55,  56,  57,  58,  59,  60,  61,  62,  63,  64,  65,\n",
       "        66,  67,  68,  69,  70,  71,  72,  73,  74,  75,  76,  77,  78,\n",
       "        79,  80,  81,  82,  83,  84,  85,  86,  87,  88,  89,  90,  91,\n",
       "        92,  93,  94,  95,  96,  97,  98,  99, 100])"
      ]
     },
     "execution_count": 142,
     "metadata": {},
     "output_type": "execute_result"
    }
   ],
   "source": [
    "np.cumsum(prev)"
   ]
  }
 ],
 "metadata": {
  "kernelspec": {
   "display_name": "Python 3 (ipykernel)",
   "language": "python",
   "name": "python3"
  },
  "language_info": {
   "codemirror_mode": {
    "name": "ipython",
    "version": 3
   },
   "file_extension": ".py",
   "mimetype": "text/x-python",
   "name": "python",
   "nbconvert_exporter": "python",
   "pygments_lexer": "ipython3",
   "version": "3.10.9"
  }
 },
 "nbformat": 4,
 "nbformat_minor": 5
}
