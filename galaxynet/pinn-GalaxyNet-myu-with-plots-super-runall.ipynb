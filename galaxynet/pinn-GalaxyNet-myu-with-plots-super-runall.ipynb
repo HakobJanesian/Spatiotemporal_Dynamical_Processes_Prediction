{
 "cells": [
  {
   "cell_type": "code",
   "execution_count": 1,
   "id": "5663c8db",
   "metadata": {
    "colab": {
     "base_uri": "https://localhost:8080/"
    },
    "id": "5663c8db",
    "outputId": "7d8ac497-e64c-4651-d0a8-940525f10cb9"
   },
   "outputs": [
    {
     "name": "stdout",
     "output_type": "stream",
     "text": [
      "Enabling notebook extension jupyter-js-widgets/extension...\r\n",
      "      - Validating: \u001b[32mOK\u001b[0m\r\n"
     ]
    }
   ],
   "source": [
    "!jupyter nbextension enable --py widgetsnbextension"
   ]
  },
  {
   "cell_type": "code",
   "execution_count": 2,
   "id": "326e00db",
   "metadata": {
    "colab": {
     "base_uri": "https://localhost:8080/"
    },
    "id": "326e00db",
    "outputId": "32ce64ff-b91e-4127-fd79-46183bd95faf"
   },
   "outputs": [],
   "source": [
    "import cv2\n",
    "import torch\n",
    "import imageio\n",
    "import torch.nn as nn\n",
    "import numpy as np\n",
    "import matplotlib.pyplot as plt\n",
    "import torch.nn.functional as F\n",
    "\n",
    "from tqdm.notebook import tqdm\n",
    "from torch import Tensor\n",
    "from itertools import compress, cycle\n",
    "from collections import OrderedDict\n",
    "from scipy.interpolate import griddata\n",
    "from IPython.display import Image\n",
    "\n",
    "from utilities.utils import *\n",
    "\n",
    "from src.plotting import Plotter\n",
    "from src.gl_solver import GLSolver\n",
    "from src.parameters_init import ParametersInit\n",
    "from src.random_input_field import RandomInputField\n",
    "\n",
    "import warnings\n",
    "warnings.filterwarnings('ignore')\n",
    "\n",
    "EPOCHS = 20_000\n",
    "LR = 1"
   ]
  },
  {
   "cell_type": "markdown",
   "id": "1D-Md_qQdSn-",
   "metadata": {
    "id": "1D-Md_qQdSn-"
   },
   "source": [
    "GETTING HANDS DIRTY WITH THE NEURAL NETWORKS"
   ]
  },
  {
   "cell_type": "markdown",
   "id": "c9462a89",
   "metadata": {
    "id": "c9462a89"
   },
   "source": [
    "$$\n",
    "\\begin{aligned}\n",
    "\\partial_{t} A &= \\mu A+\\Delta A-|A|^{2} A\n",
    "\\end{aligned}\n",
    "$$"
   ]
  },
  {
   "cell_type": "code",
   "execution_count": 3,
   "id": "9bad1d8c",
   "metadata": {},
   "outputs": [],
   "source": [
    "class GALAXYNET(nn.Module):\n",
    "    def __init__(self, layers_list, activation_function_list = None, linm = None):\n",
    "        super(GALAXYNET, self).__init__()\n",
    "        self._depth = len(layers_list) - 1\n",
    "        \n",
    "        if activation_function_list is None:\n",
    "            activation_function_list = [F.softplus for _ in range(self._depth - 1)]\n",
    "            \n",
    "        if linm is None:\n",
    "            linm =  np.tril(np.ones(self._depth + 1, dtype = int))\n",
    "        lin = linm@layers_list\n",
    "        \n",
    "        self._activation_function_list = activation_function_list\n",
    "        \n",
    "        self._Wtmx = nn.Sequential(*[torch.nn.Linear(lin[i], layers_list[i+1], dtype = torch.float64) for i in range(self._depth)])\n",
    "        self._linm = linm\n",
    "        \n",
    "        self.optimizer = torch.optim.Adam( params = self._Wtmx.parameters(), lr=0.01 )    \n",
    "        \n",
    "    def forward(self, x):\n",
    "        layers = [x,self._Wtmx[0](x)]\n",
    "        for i in range(1, self._depth):\n",
    "            layers[i] = self._activation_function_list[i-1](layers[i])\n",
    "            ind = self._linm[i]\n",
    "            inpind = np.where(ind)[0]\n",
    "            inp = torch.concat([layers[i] for i in inpind], dim=1)\n",
    "            layers.append(self._Wtmx[i](inp))\n",
    "        return layers[-1]        \n",
    "\n",
    "    def predict(self, x):\n",
    "        self._Wtmx.eval()\n",
    "        if type(x) is not torch.Tensor:\n",
    "            x = torch.tensor(x, dtype = torch.float64).to(device)\n",
    "        y =  self.forward(x).cpu().detach().numpy()\n",
    "        return y[:,0] + y[:,1]*1j    \n",
    "\n",
    "    def rmsef(self, y, y_pred):\n",
    "        mseloss = torch.sum((y_pred - y)**2,dim=1)\n",
    "        return torch.sum(torch.sqrt(mseloss))   \n",
    "\n",
    "    def fastrmsebatchtrain(self, x, y, epochs=100, batch_size = 64):\n",
    "        from torch.utils.data import DataLoader\n",
    "\n",
    "        x = torch.tensor(x, dtype = torch.float64).to(device)\n",
    "        y = torch.tensor(y, dtype = torch.float64).to(device)\n",
    "        dataloader = DataLoader(dataset = torch.hstack((x,y)), batch_size=batch_size, shuffle=True)\n",
    "        \n",
    "        self.optimizer.zero_grad()\n",
    "        L = []\n",
    "        \n",
    "        import math\n",
    "        batchiter = (epochs * batch_size)  // x.size()[0]\n",
    "        epochs =  batchiter * math.ceil(x.size()[0] / batch_size)\n",
    "        \n",
    "        pbar = tqdm(total=epochs)\n",
    "        try:\n",
    "            for _ in range(batchiter):\n",
    "                for i, tmp in enumerate(dataloader):\n",
    "                    (tmpx, tmpy, tmpt, tmpu_real, tmpu_img) = tmp.T\n",
    "                    X = torch.stack((tmpx,tmpy,tmpt)).T\n",
    "                    U = torch.stack((tmpu_real, tmpu_img)).T\n",
    "\n",
    "                    y_pred = self.forward(X)\n",
    "                    loss = self.rmsef(y_pred,U)\n",
    "                    L.append(loss.cpu().detach().numpy())\n",
    "                    loss.backward()\n",
    "                    self.optimizer.step()\n",
    "                    self._Wtmx.zero_grad()\n",
    "                    # Update the progress bar\n",
    "                    pbar.update(1)\n",
    "        except:\n",
    "            pass\n",
    "        finally:\n",
    "            # Close the progress bar\n",
    "            pbar.close()          \n",
    "        return L       "
   ]
  },
  {
   "cell_type": "code",
   "execution_count": 4,
   "id": "4036c8f1",
   "metadata": {},
   "outputs": [],
   "source": [
    "class GALAXYPINN(GALAXYNET):\n",
    "    def __init__(self,*args,**kwargs):\n",
    "        super(GALAXYPINN, self).__init__(*args,**kwargs)\n",
    "#         myu = torch.randn(4, 2, dtype=torch.float64).to(device)\n",
    "#         myu = nn.Parameter(myu)\n",
    "#         self._Wtmx.register_parameter('myu', myu)\n",
    "#         self.myuparam = myu\n",
    "#         myu = transform_and_stack(myu, 4, 200).to(device).clone().requires_grad_(True)\n",
    "#         self.myu = myu.view(200, 4, 4)\n",
    "        self.myureset()\n",
    "    \n",
    "    def myureset(self):\n",
    "        myu = torch.randn(mem_rate, Nx, Ny, dtype=torch.float64).to(device)\n",
    "        myu = torch.abs(myu)\n",
    "        myu = nn.Parameter(myu)\n",
    "        self._Wtmx.register_parameter('myu', myu)\n",
    "        self.myuparam = myu\n",
    "        self.myu = myu\n",
    "    \n",
    "    def loaddata_precalculate(self,x):\n",
    "        x = torch.tensor(x, dtype = torch.float64, requires_grad=True).to(device)\n",
    "        myuloss = MYULOSS(*tuple(x.T),self,y)\n",
    "        myuloss.calculate_f_withoutmyu()\n",
    "        self.myuloss = myuloss\n",
    "    \n",
    "    def myutrain(self, epochs=100, lr = 0.01):\n",
    "        myuoptimizer = torch.optim.Adam( params = [self.myuparam], lr=lr ) \n",
    "        myuoptimizer.zero_grad()\n",
    "\n",
    "        for _ in tqdm(range(epochs)):\n",
    "            self.myuloss.fmse(self.myu).backward(retain_graph=True)\n",
    "            myuoptimizer.step()\n",
    "            myuoptimizer.zero_grad()\n",
    "        \n",
    "        FMSE = self.myuloss.FMSE\n",
    "        self.myuloss.clear()\n",
    "        return FMSE"
   ]
  },
  {
   "cell_type": "code",
   "execution_count": 5,
   "id": "fc59492e",
   "metadata": {},
   "outputs": [],
   "source": [
    "class MYULOSS:\n",
    "  def __init__(self, x, y, t, net, verbose = 0):\n",
    "      self.msef = nn.MSELoss()\n",
    "      self.FMSE = []\n",
    "      self.x = x\n",
    "      self.y = y\n",
    "      self.t = t\n",
    "      self.y_pred = net.forward(torch.stack((x,y,t)).T)\n",
    "        \n",
    "  def plot(self, title= 'MYU training'):\n",
    "    plt.plot(self.FMSE)\n",
    "    plt.yscale('log')\n",
    "    plt.title(title)\n",
    "    plt.xlabel('Epochs')\n",
    "    plt.ylabel('FMSE')\n",
    "    self.clear()\n",
    "    \n",
    "  def clear(self):\n",
    "    self.FMSE = []\n",
    "    \n",
    "  def fmse(self, myu):\n",
    "    f_loss = torch.mean(torch.abs(self.net_f(myu)) ** 2)\n",
    "    self.FMSE.append(f_loss.cpu().detach().numpy())\n",
    "    return f_loss\n",
    "  \n",
    "  def net_f(self, myu, verbose = 0):\n",
    "        return self.f_withoutmyu - myu*self.u \n",
    "    \n",
    "  def calculate_f_withoutmyu(self):\n",
    "        torch.autograd.set_detect_anomaly(True)\n",
    "        x,y,t = self.x, self.y, self.t\n",
    "        \n",
    "        ru = self.y_pred[:,0]\n",
    "        iu = self.y_pred[:,1]\n",
    "\n",
    "        (ru_t, ru_x, ru_y) = torch.autograd.grad(ru, (t, x, y), grad_outputs=torch.ones_like(ru), create_graph=True, retain_graph=True)\n",
    "        (iu_t, iu_x, iu_y) = torch.autograd.grad(iu, (t, x, y), grad_outputs=torch.ones_like(iu), create_graph=True, retain_graph=True)\n",
    "\n",
    "        (ru_xx,) = torch.autograd.grad(ru_x, (x), grad_outputs=torch.ones_like(ru_x), create_graph=True)\n",
    "        (iu_xx,) = torch.autograd.grad(iu_x, (x), grad_outputs=torch.ones_like(iu_x), create_graph=True)\n",
    "\n",
    "        (ru_yy,) = torch.autograd.grad(ru_y, (y), grad_outputs=torch.ones_like(ru_y), create_graph=True)\n",
    "        (iu_yy,) = torch.autograd.grad(iu_y, (y), grad_outputs=torch.ones_like(iu_y), create_graph=True)\n",
    "\n",
    "        u =( ru + iu * 1j).view(mem_rate, Nx, Ny)\n",
    "        u_t = (ru_t + iu_t * 1j).view(mem_rate, Nx, Ny)\n",
    "        u_xx =( ru_xx + iu_xx *1j).view(mem_rate, Nx, Ny)\n",
    "        u_yy = (ru_yy + iu_yy *1j).view(mem_rate, Nx, Ny)\n",
    "        self.u = u.cpu().detach()\n",
    "            \n",
    "        f_withoutmyu = u_t - (u_xx + u_yy) + torch.pow(torch.abs(u), 2)*u #- myu*u\n",
    "        free_memory(u_t, u_xx, u_yy)\n",
    "        self.f_withoutmyu = f_withoutmyu.cpu().detach()\n",
    "        torch.autograd.set_detect_anomaly(False)\n",
    "      \n",
    "def free_memory(*variables):\n",
    "    del variables\n",
    "    torch.cuda.empty_cache()"
   ]
  },
  {
   "cell_type": "code",
   "execution_count": 6,
   "id": "29f133a4",
   "metadata": {},
   "outputs": [],
   "source": [
    "def nettrain():\n",
    "    L1 = net.fastrmsebatchtrain(x = X_star, y = u_star, epochs = 100000)\n",
    "\n",
    "    net.optimizer.param_groups[0]['lr'] = 0.001\n",
    "    L2 = net.fastrmsebatchtrain(x = X_star, y = u_star, epochs = 100000)\n",
    "\n",
    "    plt.plot(L1)\n",
    "    plt.yscale('log')\n",
    "    plt.xlabel('epochs')\n",
    "    plt.ylabel('Custom Loss')\n",
    "    plt.title('Training of the AllInputNet \\n lr=0.01')\n",
    "    plt.savefig(f'{mtlibpath_prefix}_allinputnet001.png')\n",
    "    plt.show()\n",
    "\n",
    "    plt.plot(L2)\n",
    "    plt.yscale('log')\n",
    "    plt.xlabel('epochs')\n",
    "    plt.ylabel('Custom Loss')\n",
    "    plt.title('Training of the AllInputNet \\n lr=0.001')\n",
    "    plt.savefig(f'{mtlibpath_prefix}_allinputnet0001.png')\n",
    "    plt.show()"
   ]
  },
  {
   "cell_type": "markdown",
   "id": "ea994c61",
   "metadata": {},
   "source": [
    "## calculating myus"
   ]
  },
  {
   "cell_type": "code",
   "execution_count": 7,
   "id": "c56de57c",
   "metadata": {},
   "outputs": [],
   "source": [
    "def runmyu():\n",
    "    calcmyu()\n",
    "    plotmyu()"
   ]
  },
  {
   "cell_type": "code",
   "execution_count": 8,
   "id": "f24c8864",
   "metadata": {},
   "outputs": [],
   "source": [
    "def calcmyu():\n",
    "    net.loaddata_precalculate(X_star)\n",
    "    net.myureset()\n",
    "    global u\n",
    "    u = net.myuloss.u"
   ]
  },
  {
   "cell_type": "code",
   "execution_count": 9,
   "id": "23aba25b",
   "metadata": {},
   "outputs": [],
   "source": [
    "def plotmyu():\n",
    "    figure, axes = plt.subplots(nrows = 2,ncols = 2, figsize=(8, 4.5))\n",
    "\n",
    "    for lr, ax in zip([10,3,1,0.3],np.array(axes).flatten()):\n",
    "        L = net.myutrain(lr = lr, epochs = 10)\n",
    "        ax.plot(L)    \n",
    "        ax.set_yscale('log')\n",
    "        ax.set_title(f'lr={lr}')\n",
    "\n",
    "    figure.text(0.02, 0.5, 'FMSE', ha='center', va='center', rotation='vertical')\n",
    "    figure.text(0.5, 0.002, 'epochs', ha='center', va='center')\n",
    "    figure.suptitle('MYU Training', fontsize=16)\n",
    "    plt.tight_layout()\n",
    "    plt.savefig(f'{mtlibpath_prefix}_myutraining.png')\n",
    "    plt.show()"
   ]
  },
  {
   "cell_type": "markdown",
   "id": "06b2c683",
   "metadata": {},
   "source": [
    "## Visualizing and saving plot gifs"
   ]
  },
  {
   "cell_type": "code",
   "execution_count": 10,
   "id": "a1883374",
   "metadata": {},
   "outputs": [],
   "source": [
    "def gifplot():\n",
    "    myuplot()\n",
    "    plt.show()\n",
    "    originalplot()\n",
    "    plt.show()\n",
    "    Agifplot()\n",
    "    plt.show()"
   ]
  },
  {
   "cell_type": "code",
   "execution_count": 11,
   "id": "d6da58ba",
   "metadata": {},
   "outputs": [],
   "source": [
    "def myuplot():\n",
    "    ploter = Plotter(net.myu.cpu().detach().numpy())\n",
    "    ploter.output_animation(mem_rate, save_gif=True, file_name=rf\"{path}_myupred.gif\")"
   ]
  },
  {
   "cell_type": "code",
   "execution_count": 12,
   "id": "b888b150",
   "metadata": {
    "scrolled": true
   },
   "outputs": [],
   "source": [
    "def originalplot():\n",
    "    ploter = Plotter(myu_original.squeeze(0))\n",
    "    ploter.output_animation(mem_rate, save_gif=True, file_name=rf\"{path}_myuorig.gif\")"
   ]
  },
  {
   "cell_type": "code",
   "execution_count": 13,
   "id": "3dcf2c78",
   "metadata": {
    "colab": {
     "base_uri": "https://localhost:8080/",
     "height": 1000
    },
    "id": "3dcf2c78",
    "outputId": "6c707713-09bf-46bf-d2b2-f0ceb7920883",
    "scrolled": false
   },
   "outputs": [],
   "source": [
    "def Agifplot():\n",
    "    create_gifs(\n",
    "        memory_rate=mem_rate,\n",
    "        u_pred=net.predict(X_star),\n",
    "        original=A_original,\n",
    "        save=True,\n",
    "        path_for_gif=path+\".gif\",\n",
    "        duration=500,\n",
    "        title=\" \"\n",
    "    )\n",
    "    Image(filename=path+\".gif\")"
   ]
  },
  {
   "cell_type": "code",
   "execution_count": 14,
   "id": "169d84f2",
   "metadata": {},
   "outputs": [
    {
     "name": "stdout",
     "output_type": "stream",
     "text": [
      "True\n",
      "False\n"
     ]
    }
   ],
   "source": [
    "def isdone(string):\n",
    "    if not os.path.exists('plot/done.txt'):\n",
    "        print(\"THE FILE plot/done.txt does not exist double check it\")\n",
    "    \n",
    "    # Check if the string exists in the file\n",
    "    with open('plot/done.txt', 'r') as file:\n",
    "        contents = file.read()\n",
    "        if string in contents:\n",
    "            return True\n",
    "        else:\n",
    "            return False\n",
    "import os\n",
    "def setdone(string):\n",
    "    # Write the string to the file\n",
    "    with open('plot/done.txt', 'a') as file:\n",
    "        file.write(string + '\\n')\n",
    "\n",
    "# Example usage\n",
    "setdone(\"Hello, world!\")  # Writes \"Hello, world!\" to the file\n",
    "print(isdone(\"Hello, world!\"))  # Prints True\n",
    "print(isdone(\"Foo\"))  # Prints False\n"
   ]
  },
  {
   "cell_type": "code",
   "execution_count": 15,
   "id": "6fe98e8e",
   "metadata": {},
   "outputs": [],
   "source": [
    "def saveresults(prefix):\n",
    "    np.save(prefix + \"_myu_pred.npy\",net.myu.cpu().detach().numpy())\n",
    "    np.save(prefix + \"_myu_original.npy\",myu_original.squeeze(0))\n",
    "    np.save(prefix + \"_A_pred.npy\",u)\n",
    "    np.save(prefix + \"_A_original.npy\",A_original)"
   ]
  },
  {
   "cell_type": "markdown",
   "id": "88d0f0c8",
   "metadata": {},
   "source": [
    "### RUN WITH CUSTOM PARAMETERS "
   ]
  },
  {
   "cell_type": "code",
   "execution_count": 16,
   "id": "10aa3ad7",
   "metadata": {},
   "outputs": [],
   "source": [
    "!mkdir -p plot/data"
   ]
  },
  {
   "cell_type": "code",
   "execution_count": null,
   "id": "14989401",
   "metadata": {
    "scrolled": true
   },
   "outputs": [
    {
     "name": "stdout",
     "output_type": "stream",
     "text": [
      "Nx=60-time_period_parameter=40-dt=0.005-Lx=7-input_to_defect_ratio=100\n"
     ]
    },
    {
     "name": "stderr",
     "output_type": "stream",
     "text": [
      "100%|███████████████████████████████████████| 200/200 [00:00<00:00, 2201.01it/s]\n"
     ]
    },
    {
     "name": "stdout",
     "output_type": "stream",
     "text": [
      "Unique Myus count\t 180\n",
      "Max value of myu:\t 88.42369900629959\n",
      "Min value of myu:\t 32.5954719470796\n",
      "Unique values: [32.5954719470796, 33.425117904784386, 34.3481681521083, 34.953412569847785, 35.23409558348635, 36.91997215322985, 37.13525944085998, 39.50913885834115, 40.828791687744385, 41.01107297858484, 41.79660242134719, 42.29924728898496, 42.65056975088027, 42.759853320682154, 43.701966388723925, 43.71730707839817, 43.84173973985752, 43.93145505419134, 44.08419437026836, 44.109546290126076, 44.16752863673451, 46.723194541969455, 46.84900770664998, 47.265799181367164, 47.29002746755052, 48.108441114463645, 48.17510046002758, 48.802863861321036, 49.2103401950101, 49.53505262195116, 49.75814119331408, 49.78165764261443, 49.995560408683474, 50.03940536123349, 50.77001035187256, 50.998019123974416, 51.32993073273145, 51.50004911766405, 51.64211645395351, 51.66134530600756, 51.708350309536215, 52.06810417948089, 52.11428217208176, 52.654379463951564, 52.73198343740367, 52.745442194392794, 52.98894913849676, 53.03592846721206, 53.19784993591646, 53.32573131865776, 53.339869684662574, 53.354800994893985, 53.36258140091563, 53.83556685164621, 53.857965324243764, 53.92838185729586, 53.95238071173617, 54.055056152437864, 54.142204104732265, 54.18494425342599, 54.22756609772134, 54.36317980192011, 54.38088522279721, 54.42725298574599, 54.51680721260079, 54.91739821078675, 55.014108798389806, 55.05742719843065, 55.16741565790935, 55.2256867166674, 55.54199609975517, 56.13927467058185, 56.81053072650822, 57.131308593602604, 57.399519384266995, 57.571636592786334, 58.02146715917329, 58.10587268395964, 58.20105144549268, 58.31332923388365, 58.806290137359355, 58.866783089541826, 59.05893517698319, 60.81155966050311, 60.84464608865692, 61.043939123418106, 61.29798950334076, 61.8808974044294, 61.94018817385285, 62.030115575802334, 62.03105567039924, 62.10906289649787, 62.12350845515078, 62.218847499910886, 62.27119674963144, 62.595247299094765, 62.69116406683204, 63.030974569726155, 63.21396066932146, 63.249737251384225, 63.42149298875002, 64.02644223680284, 64.04390642320881, 64.13888054747834, 64.34509957346631, 64.37172250827281, 64.4083202287302, 64.7128443137607, 64.97007646557766, 64.99551168588734, 65.0889899702683, 65.12874674964303, 65.17280226346116, 65.35228778362274, 65.81435441375277, 65.8983885527158, 65.92356490903632, 65.97979492419822, 66.19538411356343, 66.39347903188175, 66.43074825738718, 66.91259403210218, 67.12393606729525, 67.28774853229558, 67.3772782613887, 67.40857193916912, 67.49838202147487, 68.13214292063245, 68.30078584730006, 68.33203456367539, 68.41113106935178, 68.57045256532494, 68.68705728427476, 68.77050149975926, 68.78652985512167, 69.0289560769444, 69.13491502057398, 69.7531588802514, 69.76819783214513, 70.20189373308267, 70.29733221317701, 70.50283242476303, 70.91429284393978, 71.18852335161574, 71.404687763926, 71.77158847201434, 72.07714910862376, 72.24880409745536, 72.56657730417359, 72.79616310582907, 73.19114907131743, 73.19365975277961, 73.21276661039141, 73.39513217623599, 73.45016263945269, 73.58983947513627, 74.2063875546894, 74.34395698767642, 74.6199452609211, 74.6773342166546, 74.75111129144177, 74.86268111757003, 75.51125494388397, 75.70717471090788, 75.98411070085743, 76.13781425623931, 76.31717066928363, 77.44613350714837, 78.31465199744471, 78.34173461739869, 78.36777413591662, 79.34285749388609, 80.84649595467971, 82.15824669069163, 82.73823275309076, 84.06982463679645, 84.24372147846556, 85.4881799748035, 87.15144108722382, 88.42369900629959]\n",
      "Counts:\t\t [4000 4000 4000 4000 4000 4000 4000 4000 4000 4000 4000 4000 4000 4000\n",
      " 4000 4000 4000 4000 4000 4000 4000 4000 4000 4000 4000 4000 4000 4000\n",
      " 4000 4000 4000 4000 4000 4000 4000 4000 4000 4000 4000 4000 4000 4000\n",
      " 4000 4000 4000 4000 4000 4000 4000 4000 4000 4000 4000 4000 4000 4000\n",
      " 4000 4000 4000 4000 4000 4000 4000 4000 4000 4000 4000 4000 4000 4000\n",
      " 4000 4000 4000 4000 4000 4000 4000 4000 4000 4000 4000 4000 4000 4000\n",
      " 4000 4000 4000 4000 4000 4000 4000 4000 4000 4000 4000 4000 4000 4000\n",
      " 4000 4000 4000 4000 4000 4000 4000 4000 4000 4000 4000 4000 4000 4000\n",
      " 4000 4000 4000 4000 4000 4000 4000 4000 4000 4000 4000 4000 4000 4000\n",
      " 4000 4000 4000 4000 4000 4000 4000 4000 4000 4000 4000 4000 4000 4000\n",
      " 4000 4000 4000 4000 4000 4000 4000 4000 4000 4000 4000 4000 4000 4000\n",
      " 4000 4000 4000 4000 4000 4000 4000 4000 4000 4000 4000 4000 4000 4000\n",
      " 4000 4000 4000 4000 4000 4000 4000 4000 4000 4000 4000 4000]\n",
      "A.shape=(1, 200, 60, 60),\n",
      "Myu.shape=(1, 200, 60, 60),\n",
      "\n",
      "Any NaN values in Myu\t\t False\n",
      "Any NaN values in A_original\t False\n"
     ]
    },
    {
     "name": "stderr",
     "output_type": "stream",
     "text": [
      "100%|███████████████████████████████████| 90000/90000 [01:10<00:00, 1275.27it/s]\n",
      "100%|███████████████████████████████████| 90000/90000 [01:11<00:00, 1265.81it/s]\n"
     ]
    },
    {
     "data": {
      "image/png": "[encoded data removed]",
      "text/plain": [
       "<Figure size 640x480 with 1 Axes>"
      ]
     },
     "metadata": {},
     "output_type": "display_data"
    },
    {
     "data": {
      "image/png": "[encoded data removed]",
      "text/plain": [
       "<Figure size 640x480 with 1 Axes>"
      ]
     },
     "metadata": {},
     "output_type": "display_data"
    }
   ],
   "source": [
    "range_Nx = [60]\n",
    "range_time_period_parameter = [40]\n",
    "range_dt = [0.005]\n",
    "range_Lx = [6,7,8,9]\n",
    "range_input_to_defect_ratio = [10*10]\n",
    "\n",
    "for Nx in range_Nx:\n",
    " for dt in range_dt:\n",
    "  for time_period_parameter in range_time_period_parameter:\n",
    "   for Lx in range_Lx:\n",
    "    for input_to_defect_ratio in range_input_to_defect_ratio:     \n",
    "        uid = f\"Nx={Nx}-time_period_parameter={time_period_parameter}-dt={dt}-Lx={Lx}-input_to_defect_ratio={input_to_defect_ratio}\"\n",
    "        if isdone(uid): continue\n",
    "\n",
    "        device='cpu'\n",
    "        print(uid)\n",
    "\n",
    "        path = f\"plot/{uid}\"\n",
    "        mtlibpath_prefix = f\"plot/{uid}\"\n",
    "\n",
    "        Ny=Nx\n",
    "\n",
    "        Ly=Lx\n",
    "\n",
    "        T_end = 1\n",
    "\n",
    "        N_ITERATIONS = int(T_end / dt)\n",
    "        A_norm, A_original, mem_rate, myu_original = compute_A_norm(\n",
    "            Nx=Nx, \n",
    "            Ny=Ny, \n",
    "            input_to_defect_ratio=input_to_defect_ratio, \n",
    "            mean=5.4, \n",
    "            std_deviation=0.8, \n",
    "            time_period=80, \n",
    "            Lx=Lx, \n",
    "            Ly=Ly, \n",
    "            dt=dt, \n",
    "            T_End=T_end, \n",
    "            parallel_runs=1, \n",
    "            input_scale=0.75, \n",
    "            mem_coef=1, \n",
    "            time_period_parameter=time_period_parameter, \n",
    "            _mean=5.4, \n",
    "            std_deviation_run_computation=0.8,\n",
    "            input_myu=None\n",
    "        )\n",
    "\n",
    "        x = np.linspace(0, Lx, Nx).flatten()[:, None]\n",
    "        y = np.linspace(0, Ly, Ny).flatten()[:, None]\n",
    "        t = np.linspace(0, T_end, N_ITERATIONS).flatten()[:, None]\n",
    "\n",
    "        Exact = A_original.squeeze(0)\n",
    "\n",
    "        X, T, Y = np.meshgrid(x, t, y)\n",
    "\n",
    "        X_star = np.hstack((X.flatten()[:, None], Y.flatten()[:, None], T.flatten()[:, None]))\n",
    "        u_star = Exact.flatten()\n",
    "        u_star = np.hstack([u_star.real[:, None],u_star.imag[:, None]])\n",
    "\n",
    "        torch.manual_seed(0)\n",
    "        net = GALAXYPINN([3,8,32,64,32,8,2]).to(device)\n",
    "\n",
    "        nettrain()\n",
    "        runmyu()\n",
    "        gifplot()\n",
    "        setdone(uid)\n",
    "        saveresults(f\"plot/data/{uid}\")"
   ]
  },
  {
   "cell_type": "code",
   "execution_count": null,
   "id": "c83c6106",
   "metadata": {},
   "outputs": [],
   "source": []
  },
  {
   "cell_type": "code",
   "execution_count": null,
   "id": "80563ab5",
   "metadata": {},
   "outputs": [],
   "source": []
  }
 ],
 "metadata": {
  "colab": {
   "provenance": []
  },
  "kernelspec": {
   "display_name": "Python 3 (ipykernel)",
   "language": "python",
   "name": "python3"
  },
  "language_info": {
   "codemirror_mode": {
    "name": "ipython",
    "version": 3
   },
   "file_extension": ".py",
   "mimetype": "text/x-python",
   "name": "python",
   "nbconvert_exporter": "python",
   "pygments_lexer": "ipython3",
   "version": "3.10.9"
  }
 },
 "nbformat": 4,
 "nbformat_minor": 5
}
