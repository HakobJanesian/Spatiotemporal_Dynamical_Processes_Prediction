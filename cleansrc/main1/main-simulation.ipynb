{
 "cells": [
  {
   "cell_type": "code",
   "execution_count": 1,
   "id": "5663c8db",
   "metadata": {
    "colab": {
     "base_uri": "https://localhost:8080/"
    },
    "id": "5663c8db",
    "outputId": "7d8ac497-e64c-4651-d0a8-940525f10cb9"
   },
   "outputs": [
    {
     "name": "stdout",
     "output_type": "stream",
     "text": [
      "Enabling notebook extension jupyter-js-widgets/extension...\n",
      "      - Validating: \u001b[32mOK\u001b[0m\n"
     ]
    }
   ],
   "source": [
    "!jupyter nbextension enable --py widgetsnbextension\n"
   ]
  },
  {
   "cell_type": "code",
   "execution_count": 2,
   "metadata": {},
   "outputs": [],
   "source": [
    "import sys\n",
    "import os\n",
    "from pathlib import Path\n",
    "\n",
    "# Add parent directory temporarily to sys.path\n",
    "sys.path.insert(0, str(Path(os.getcwd()).resolve().parent))"
   ]
  },
  {
   "cell_type": "code",
   "execution_count": 3,
   "id": "326e00db",
   "metadata": {
    "colab": {
     "base_uri": "https://localhost:8080/"
    },
    "id": "326e00db",
    "outputId": "32ce64ff-b91e-4127-fd79-46183bd95faf"
   },
   "outputs": [
    {
     "data": {
      "text/plain": [
       "device(type='cpu')"
      ]
     },
     "execution_count": 3,
     "metadata": {},
     "output_type": "execute_result"
    }
   ],
   "source": [
    "#import cv2\n",
    "import torch\n",
    "import imageio\n",
    "import torch.nn as nn\n",
    "import numpy as np\n",
    "import matplotlib.pyplot as plt\n",
    "import torch.nn.functional as F\n",
    "from torch.utils.data import DataLoader\n",
    "from lib.State import State\n",
    "\n",
    "import torch\n",
    "import torch.nn.functional as F\n",
    "\n",
    "from tqdm.notebook import tqdm\n",
    "from torch import Tensor\n",
    "from itertools import compress, cycle\n",
    "from collections import OrderedDict\n",
    "from scipy.interpolate import griddata\n",
    "from IPython.display import Image\n",
    "\n",
    "from lib.utils.utils import *\n",
    "\n",
    "from lib.utils.plotting import Plotter\n",
    "from lib.utils.gl_solver import GLSolver\n",
    "from lib.utils.parameters_init import ParametersInit\n",
    "from lib.utils.random_input_field import RandomInputField\n",
    "\n",
    "import warnings\n",
    "warnings.filterwarnings('ignore')\n",
    "\n",
    "EPOCHS = 20_000\n",
    "LR = 1\n",
    "\n",
    "device = torch.device(\"cuda:0\" if torch.cuda.is_available() else \"cpu\")\n",
    "device"
   ]
  },
  {
   "cell_type": "code",
   "execution_count": 4,
   "id": "c86852a0",
   "metadata": {
    "scrolled": true
   },
   "outputs": [
    {
     "name": "stderr",
     "output_type": "stream",
     "text": [
      "100%|██████████| 200/200 [00:00<00:00, 1883.51it/s]"
     ]
    },
    {
     "name": "stdout",
     "output_type": "stream",
     "text": [
      "Unique Myus count\t 64\n",
      "Max value of myu:\t 98.85197228271444\n",
      "Min value of myu:\t 31.88124086517815\n",
      "Unique values: [31.88124086517815, 37.359270372192285, 38.2547862344231, 40.403393621893414, 43.05756207168323, 43.24760846995792, 43.753363670372714, 45.05815969328097, 45.987733413536446, 47.076814165092564, 47.58720219369401, 48.67068120615301, 49.24367785201386, 49.28524332778978, 49.33108518051292, 50.32473718921847, 51.443946669041416, 51.80089933009744, 52.02602883875635, 53.53632954870041, 54.6829986222362, 55.14987205756386, 55.43562266557849, 56.20676905089182, 57.06839060892531, 57.90650138957515, 58.685425924785875, 58.796727812331405, 59.781833841923536, 60.392704947691506, 60.62820430629501, 60.752503108835015, 60.922866128937116, 61.43770738474606, 61.48702528832784, 62.54631333935813, 63.17850079341826, 64.51404848902129, 64.88013229482216, 65.00817838529062, 66.26218339532609, 66.52395340558455, 68.17196198382413, 72.46314655157941, 73.32744083352007, 74.15451752168602, 74.22284126299392, 74.76602992793295, 75.49766409820147, 77.67698489736703, 78.05885516140914, 78.61785050036832, 79.04849442903783, 79.20220659844026, 79.21500061241899, 79.56678379997399, 79.86160873696112, 82.70099631570162, 85.35627209529382, 86.02181348572513, 86.88102652417449, 88.57719968885932, 88.6780635556984, 98.85197228271444]\n",
      "Counts:\t\t [12800 12800 12800 12800 12800 12800 12800 12800 12800 12800 12800 12800\n",
      " 12800 12800 12800 12800 12800 12800 12800 12800 12800 12800 12800 12800\n",
      " 12800 12800 12800 12800 12800 12800 12800 12800 12800 12800 12800 12800\n",
      " 12800 12800 12800 12800 12800 12800 12800 12800 12800 12800 12800 12800\n",
      " 12800 12800 12800 12800 12800 12800 12800 12800 12800 12800 12800 12800\n",
      " 12800 12800 12800 12800]\n",
      "A.shape=(1, 200, 64, 64),\n",
      "Myu.shape=(1, 200, 64, 64),\n",
      "\n",
      "Any NaN values in Myu\t\t False\n",
      "Any NaN values in A_original\t False\n"
     ]
    },
    {
     "name": "stderr",
     "output_type": "stream",
     "text": [
      "\n"
     ]
    }
   ],
   "source": [
    "\n",
    "Nx=64\n",
    "Ny=64\n",
    "\n",
    "Lx= 10\n",
    "Ly= 10\n",
    "T_end = 1\n",
    "dt = 0.005\n",
    "\n",
    "myubatch_size = 4096\n",
    "myu=4\n",
    "path = f\"main-simulation-N-{Nx}-L-{Lx}-Myu-{myu}\"\n",
    "mtlibpath_prefix = path + \"_mtl\"\n",
    "model_filepath = f\"../models/{path}.pt\"\n",
    "\n",
    "\n",
    "input_to_defect_ratio_sqrt = Nx // myu\n",
    "N_ITERATIONS = int(T_end / dt)\n",
    "A_norm, A_original, mem_rate, myu_original = compute_A_norm(\n",
    "    Nx=Nx, \n",
    "    Ny=Ny, \n",
    "    input_to_defect_ratio=input_to_defect_ratio_sqrt*input_to_defect_ratio_sqrt, \n",
    "    mean=5.4, \n",
    "    std_deviation=0.8, \n",
    "    time_period=25, \n",
    "    Lx=Lx, \n",
    "    Ly=Ly, \n",
    "    dt=dt, \n",
    "    T_End=T_end, \n",
    "    parallel_runs=1, \n",
    "    input_scale=0.75, \n",
    "    mem_coef=1, \n",
    "    time_period_parameter=50, \n",
    "    _mean=5.4, \n",
    "    std_deviation_run_computation=1,\n",
    "    input_myu=None\n",
    ")"
   ]
  },
  {
   "cell_type": "markdown",
   "id": "1D-Md_qQdSn-",
   "metadata": {
    "id": "1D-Md_qQdSn-"
   },
   "source": [
    "GETTING HANDS DIRTY WITH THE NEURAL NETWORKS"
   ]
  },
  {
   "cell_type": "code",
   "execution_count": 5,
   "id": "yp-gI3_HdVWJ",
   "metadata": {
    "id": "yp-gI3_HdVWJ"
   },
   "outputs": [],
   "source": [
    "x = np.linspace(0, Lx, Nx).flatten()[:, None]\n",
    "y = np.linspace(0, Ly, Ny).flatten()[:, None]\n",
    "t = np.linspace(0, T_end, N_ITERATIONS).flatten()[:, None]\n",
    "\n",
    "Exact = A_original.squeeze(0)\n",
    "\n",
    "X, T, Y = np.meshgrid(x, t, y)"
   ]
  },
  {
   "cell_type": "markdown",
   "id": "c9462a89",
   "metadata": {
    "id": "c9462a89"
   },
   "source": [
    "$$\n",
    "\\begin{aligned}\n",
    "\\partial_{t} A &= \\mu A+\\Delta A-|A|^{2} A\n",
    "\\end{aligned}\n",
    "$$"
   ]
  },
  {
   "cell_type": "code",
   "execution_count": 6,
   "id": "4036c8f1",
   "metadata": {},
   "outputs": [],
   "source": [
    "from itertools import chain\n",
    "from lib.nn.nets import FCN, MShuffle\n",
    "from lib.CGL import MYULOSS, free_memory\n",
    "\n",
    "class ALLINPUTNET(nn.Module):\n",
    "    def __init__(self):\n",
    "        super(ALLINPUTNET, self).__init__()\n",
    "        self.encoder = FCN(layers_list = [3,64])\n",
    "        self.decoder = FCN(layers_list = [64,8,2])\n",
    "        self.shuffler = MShuffle(exp_size = 6, n_depth = 4 )\n",
    "        self.optimizer = torch.optim.Adam(params = chain(\n",
    "            self.encoder._Wtmx.parameters(),\n",
    "            self.shuffler._Wtmx.parameters(),\n",
    "            self.decoder._Wtmx.parameters(),\n",
    "            ), lr=0.01)\n",
    "\n",
    "        \n",
    "    def forward(self, x):\n",
    "        E = self.encoder.forward(x)\n",
    "        S = self.shuffler.forward(E)\n",
    "        return self.decoder.forward(S)\n",
    "\n",
    "    def predict(self, x):\n",
    "        self.eval()\n",
    "        if type(x) is not torch.Tensor:\n",
    "            x = torch.tensor(x, dtype = torch.float64).to(device)\n",
    "        y =  self.forward(x).cpu().detach().numpy()\n",
    "        return y[:,0] + y[:,1]*1j    \n",
    "\n",
    "    def msef(self, y, y_pred):\n",
    "        return torch.mean((y_pred - y)**2,dim = 0)       \n",
    "\n",
    "    def zero_grad(self, set_to_none: bool = False) -> None:\n",
    "        self.encoder._Wtmx.zero_grad()\n",
    "        self.shuffler._Wtmx.zero_grad()\n",
    "        self.decoder._Wtmx.zero_grad()\n",
    "        return super().zero_grad(set_to_none)\n",
    "\n",
    "    def y_proc(y):\n",
    "        MS = y[:,1] * y[:,0]\n",
    "        IR = y[:,1] ** 2 +  y[:,0] ** 2\n",
    "        return torch.vstack((MS,IR)).T\n",
    "        \n",
    "    def fastmsebatchtrain(self, state, epochs = 100, batch_size = 64, verbose = 2, is_simulation = False):\n",
    "\n",
    "        L = []\n",
    "        for s in state.generate_batches(nbatches = epochs, batch_size = batch_size, verbose = verbose):\n",
    "            self.optimizer.zero_grad()\n",
    "            x = s.get_2d_tensor_xyt().T\n",
    "            y = s.get_2d_tensor_state().T\n",
    "            y_pred = self.forward(x)\n",
    "            loss = self.msef(\n",
    "                y_pred if is_simulation else ALLINPUTNET.y_proc(y_pred)\n",
    "                ,y) \n",
    "            L.append(loss.cpu().detach().numpy())\n",
    "            torch.mean(loss).backward()\n",
    "            self.optimizer.step()\n",
    "\n",
    "        return np.array(L)    "
   ]
  },
  {
   "cell_type": "code",
   "execution_count": 7,
   "metadata": {},
   "outputs": [],
   "source": [
    "\n",
    "class PINN(ALLINPUTNET):\n",
    "    def __init__(self,*args,**kwargs):\n",
    "        super(PINN, self).__init__(*args,**kwargs)\n",
    "        self.myureset()\n",
    "        self.myuoptimizer = torch.optim.Adam( params = [self.myuparam], lr=0.01 ) \n",
    "\n",
    "    \n",
    "    def myureset(self):\n",
    "        myu = torch.randn(mem_rate, Nx//input_to_defect_ratio_sqrt, Ny//input_to_defect_ratio_sqrt, dtype=torch.float64).to(device)\n",
    "        myu = nn.Parameter(myu)\n",
    "        self.myuparam = myu\n",
    "        \n",
    "    @property\n",
    "    def myu(self):\n",
    "        myu = F.interpolate(self.myuparam.unsqueeze(0), scale_factor=input_to_defect_ratio_sqrt, mode='nearest').squeeze()\n",
    "        return myu\n",
    "    \n",
    "    def loaddata_precalculate(self,state):\n",
    "        myuloss = MYULOSS.MYUCACHE(self, state)\n",
    "        myuloss.calculate_f_withoutmyu()\n",
    "        self.myuloss = myuloss\n",
    "    \n",
    "    def fmsef(self, myu):\n",
    "        return self.myuloss.fmse(myu)\n",
    "    \n",
    "    def fmse(self):\n",
    "        return self.fmsef(self.myu)\n",
    "    \n",
    "    def myutrain(self, epochs=100, lr = 0.01):\n",
    "        \n",
    "        myuoptimizer = torch.optim.Adam( params = [self.myuparam], lr=lr ) \n",
    "        myuoptimizer.zero_grad()\n",
    "\n",
    "        for _ in tqdm(range(epochs)):\n",
    "            self.fmse().backward(retain_graph=True)\n",
    "            myuoptimizer.step()\n",
    "            myuoptimizer.zero_grad()\n",
    "        \n",
    "        FMSE = self.myuloss.FMSE\n",
    "        self.myuloss.clear()\n",
    "        return FMSE\n",
    "    \n",
    "    def fastmyumsebatchtrain(self, state, epochs = 100, batch_size = 64, verbose = 2, is_simulation = False):\n",
    "        L = []\n",
    "        for s in state.generate_batches(nbatches = epochs, batch_size = batch_size, verbose = verbose):\n",
    "            self.optimizer.zero_grad()\n",
    "            self.myuoptimizer.zero_grad()\n",
    "            y = s.get_2d_tensor_state().T\n",
    "            f, y_pred = MYULOSS.net_f(self,s)\n",
    "            MS, RI = self.msef(\n",
    "                 y_pred if is_simulation else ALLINPUTNET.y_proc(y_pred)\n",
    "                ,y)\n",
    "            FMSE = torch.mean(torch.abs(f) ** 2)\n",
    "            L.append(\n",
    "                (MS.cpu().detach().numpy(),\n",
    "                RI.cpu().detach().numpy(),\n",
    "                FMSE.cpu().detach().numpy())\n",
    "                )\n",
    "            torch.mean(MS+RI+FMSE).backward(retain_graph=True)\n",
    "            self.optimizer.step()\n",
    "            self.myuoptimizer.step()\n",
    "            free_memory(FMSE, MS, RI, f, y_pred)\n",
    "\n",
    "        return np.array(L)\n",
    "\n",
    "    def fastmyuonlymsebatchtrain(self, state, epochs = 100, batch_size = 64, verbose = 2, is_simulation = False):\n",
    "        L = []\n",
    "        for s in state.generate_batches(nbatches = epochs, batch_size = batch_size, verbose = verbose):\n",
    "            self.myuoptimizer.zero_grad()\n",
    "            f, y_pred = MYULOSS.net_f(self,s)\n",
    "            y = s.get_2d_tensor_state().T\n",
    "            FMSE = torch.mean(torch.abs(f) ** 2)\n",
    "            FMSE.backward(retain_graph=True)\n",
    "            MS, RI = self.msef(\n",
    "                 y_pred if is_simulation else ALLINPUTNET.y_proc(y_pred)\n",
    "                ,y)\n",
    "            L.append(\n",
    "                (MS.cpu().detach().numpy(),\n",
    "                RI.cpu().detach().numpy(),\n",
    "                FMSE.cpu().detach().numpy())\n",
    "                )\n",
    "            self.myuoptimizer.step()\n",
    "            free_memory(FMSE, MS, RI, f, y_pred)\n",
    "\n",
    "        return np.array(L)\n",
    "    \n",
    "    def save_model(self, file_path):\n",
    "        model_state = {\n",
    "            'state_dict': self.state_dict(),\n",
    "            # Add any additional states here if needed\n",
    "        }\n",
    "        torch.save(model_state, file_path)\n",
    "        print(f'Model saved to {file_path}')\n",
    "\n",
    "    def load_model(self, file_path, device='cpu'):\n",
    "        model_state = torch.load(file_path, map_location=device)\n",
    "        self.load_state_dict(model_state['state_dict'])\n",
    "        # Restore any additional states here if needed\n",
    "        print(f'Model loaded from {file_path}')"
   ]
  },
  {
   "cell_type": "markdown",
   "metadata": {},
   "source": [
    "## Training the model and get approximate myus"
   ]
  },
  {
   "cell_type": "code",
   "execution_count": 8,
   "id": "315c3bfa",
   "metadata": {},
   "outputs": [],
   "source": [
    "torch.manual_seed(0)\n",
    "device = 'cpu'\n",
    "net = PINN().to(device)\n",
    "state_simulation = State(state = A_original[0], xyt = np.array([X, Y, T]), myu = net.myu)\n",
    "MS = np.abs(A_original)**2\n",
    "RI = np.real(A_original)*np.imag(A_original)\n",
    "state_experiment = State(state = (MS+RI*1j)[0], xyt = np.array([X, Y, T]), myu = net.myu)\n",
    "\n",
    "state = state_simulation\n",
    "is_simulation = True"
   ]
  },
  {
   "cell_type": "code",
   "execution_count": 9,
   "metadata": {},
   "outputs": [
    {
     "name": "stderr",
     "output_type": "stream",
     "text": [
      "  0%|          | 0/50000 [00:00<?, ?it/s]"
     ]
    },
    {
     "name": "stderr",
     "output_type": "stream",
     "text": [
      "100%|██████████| 50000/50000 [00:57<00:00, 865.75it/s]\n"
     ]
    }
   ],
   "source": [
    "net.optimizer.param_groups[0]['lr'] = 1e-3\n",
    "L = net.fastmsebatchtrain(state = state, epochs = 50000, batch_size = 64, is_simulation = is_simulation)\n"
   ]
  },
  {
   "cell_type": "code",
   "execution_count": 10,
   "metadata": {},
   "outputs": [
    {
     "data": {
      "image/png": "[encoded data removed]",
      "text/plain": [
       "<Figure size 640x480 with 1 Axes>"
      ]
     },
     "metadata": {},
     "output_type": "display_data"
    }
   ],
   "source": [
    "plt.plot(L.sum(axis=1))\n",
    "plt.yscale('log')\n",
    "plt.xlabel('epochs')\n",
    "plt.ylabel('Custom Loss')\n",
    "plt.title('Training of the AllInputNet \\n lr=0.01')\n",
    "plt.savefig(f'{mtlibpath_prefix}_allinputnet001.png')"
   ]
  },
  {
   "cell_type": "markdown",
   "id": "ea994c61",
   "metadata": {},
   "source": [
    "## calculating myus"
   ]
  },
  {
   "cell_type": "code",
   "execution_count": 11,
   "id": "f24c8864",
   "metadata": {
    "scrolled": false
   },
   "outputs": [
    {
     "name": "stderr",
     "output_type": "stream",
     "text": [
      "Processed up to index 819200: 100%|██████████| 200/200 [00:23<00:00,  8.66it/s]\n"
     ]
    }
   ],
   "source": [
    "torch.cuda.empty_cache()\n",
    "device = torch.device(\"cuda:0\" if torch.cuda.is_available() else \"cpu\")\n",
    "\n",
    "net = net.to(device)\n",
    "net.loaddata_precalculate(state)\n"
   ]
  },
  {
   "cell_type": "code",
   "execution_count": 12,
   "id": "f6e31092",
   "metadata": {},
   "outputs": [
    {
     "name": "stderr",
     "output_type": "stream",
     "text": [
      "100%|██████████| 100/100 [00:01<00:00, 69.64it/s]\n",
      "100%|██████████| 100/100 [00:01<00:00, 69.98it/s]\n",
      "100%|██████████| 100/100 [00:01<00:00, 71.82it/s]\n"
     ]
    },
    {
     "data": {
      "image/png": "[encoded data removed]",
      "text/plain": [
       "<Figure size 640x480 with 1 Axes>"
      ]
     },
     "metadata": {},
     "output_type": "display_data"
    }
   ],
   "source": [
    "\n",
    "i = 0\n",
    "for lr in [1,0.01,0.0001]:\n",
    "    L = net.myutrain(lr=lr, epochs=100)    \n",
    "    l = net.fmse().cpu().detach().numpy()\n",
    "    L += [l]\n",
    "    net.myuloss.clear()\n",
    " \n",
    "    plt.plot(range(i,i+len(L)), L, label=f'lr={lr}')\n",
    "    i+=len(L)-1\n",
    "\n",
    "plt.yscale('log')\n",
    "plt.legend()\n",
    "plt.xlabel('epochs')\n",
    "plt.ylabel('FMSE')\n",
    "plt.title('MYU Training')\n",
    "plt.tight_layout()\n",
    "plt.savefig(f'{mtlibpath_prefix}_myutraining.png')\n",
    "plt.show()"
   ]
  },
  {
   "cell_type": "markdown",
   "metadata": {},
   "source": [
    "## Training with fmse"
   ]
  },
  {
   "cell_type": "code",
   "execution_count": 13,
   "metadata": {},
   "outputs": [
    {
     "ename": "RuntimeError",
     "evalue": "Parent directory ../models does not exist.",
     "output_type": "error",
     "traceback": [
      "\u001b[0;31m---------------------------------------------------------------------------\u001b[0m",
      "\u001b[0;31mRuntimeError\u001b[0m                              Traceback (most recent call last)",
      "\u001b[1;32m/Users/075072/Desktop/gl_pinn/cleansrc/main1/main-simulation.ipynb Cell 18\u001b[0m line \u001b[0;36m1\n\u001b[0;32m----> <a href='vscode-notebook-cell:/Users/075072/Desktop/gl_pinn/cleansrc/main1/main-simulation.ipynb#X23sZmlsZQ%3D%3D?line=0'>1</a>\u001b[0m net\u001b[39m.\u001b[39;49msave_model(model_filepath)\n",
      "\u001b[1;32m/Users/075072/Desktop/gl_pinn/cleansrc/main1/main-simulation.ipynb Cell 18\u001b[0m line \u001b[0;36m9\n\u001b[1;32m     <a href='vscode-notebook-cell:/Users/075072/Desktop/gl_pinn/cleansrc/main1/main-simulation.ipynb#X23sZmlsZQ%3D%3D?line=86'>87</a>\u001b[0m \u001b[39mdef\u001b[39;00m \u001b[39msave_model\u001b[39m(\u001b[39mself\u001b[39m, file_path):\n\u001b[1;32m     <a href='vscode-notebook-cell:/Users/075072/Desktop/gl_pinn/cleansrc/main1/main-simulation.ipynb#X23sZmlsZQ%3D%3D?line=87'>88</a>\u001b[0m     model_state \u001b[39m=\u001b[39m {\n\u001b[1;32m     <a href='vscode-notebook-cell:/Users/075072/Desktop/gl_pinn/cleansrc/main1/main-simulation.ipynb#X23sZmlsZQ%3D%3D?line=88'>89</a>\u001b[0m         \u001b[39m'\u001b[39m\u001b[39mstate_dict\u001b[39m\u001b[39m'\u001b[39m: \u001b[39mself\u001b[39m\u001b[39m.\u001b[39mstate_dict(),\n\u001b[1;32m     <a href='vscode-notebook-cell:/Users/075072/Desktop/gl_pinn/cleansrc/main1/main-simulation.ipynb#X23sZmlsZQ%3D%3D?line=89'>90</a>\u001b[0m         \u001b[39m# Add any additional states here if needed\u001b[39;00m\n\u001b[1;32m     <a href='vscode-notebook-cell:/Users/075072/Desktop/gl_pinn/cleansrc/main1/main-simulation.ipynb#X23sZmlsZQ%3D%3D?line=90'>91</a>\u001b[0m     }\n\u001b[0;32m---> <a href='vscode-notebook-cell:/Users/075072/Desktop/gl_pinn/cleansrc/main1/main-simulation.ipynb#X23sZmlsZQ%3D%3D?line=91'>92</a>\u001b[0m     torch\u001b[39m.\u001b[39;49msave(model_state, file_path)\n\u001b[1;32m     <a href='vscode-notebook-cell:/Users/075072/Desktop/gl_pinn/cleansrc/main1/main-simulation.ipynb#X23sZmlsZQ%3D%3D?line=92'>93</a>\u001b[0m     \u001b[39mprint\u001b[39m(\u001b[39mf\u001b[39m\u001b[39m'\u001b[39m\u001b[39mModel saved to \u001b[39m\u001b[39m{\u001b[39;00mfile_path\u001b[39m}\u001b[39;00m\u001b[39m'\u001b[39m)\n",
      "File \u001b[0;32m~/Library/Python/3.9/lib/python/site-packages/torch/serialization.py:440\u001b[0m, in \u001b[0;36msave\u001b[0;34m(obj, f, pickle_module, pickle_protocol, _use_new_zipfile_serialization)\u001b[0m\n\u001b[1;32m    437\u001b[0m _check_save_filelike(f)\n\u001b[1;32m    439\u001b[0m \u001b[39mif\u001b[39;00m _use_new_zipfile_serialization:\n\u001b[0;32m--> 440\u001b[0m     \u001b[39mwith\u001b[39;00m _open_zipfile_writer(f) \u001b[39mas\u001b[39;00m opened_zipfile:\n\u001b[1;32m    441\u001b[0m         _save(obj, opened_zipfile, pickle_module, pickle_protocol)\n\u001b[1;32m    442\u001b[0m         \u001b[39mreturn\u001b[39;00m\n",
      "File \u001b[0;32m~/Library/Python/3.9/lib/python/site-packages/torch/serialization.py:315\u001b[0m, in \u001b[0;36m_open_zipfile_writer\u001b[0;34m(name_or_buffer)\u001b[0m\n\u001b[1;32m    313\u001b[0m \u001b[39melse\u001b[39;00m:\n\u001b[1;32m    314\u001b[0m     container \u001b[39m=\u001b[39m _open_zipfile_writer_buffer\n\u001b[0;32m--> 315\u001b[0m \u001b[39mreturn\u001b[39;00m container(name_or_buffer)\n",
      "File \u001b[0;32m~/Library/Python/3.9/lib/python/site-packages/torch/serialization.py:288\u001b[0m, in \u001b[0;36m_open_zipfile_writer_file.__init__\u001b[0;34m(self, name)\u001b[0m\n\u001b[1;32m    287\u001b[0m \u001b[39mdef\u001b[39;00m \u001b[39m__init__\u001b[39m(\u001b[39mself\u001b[39m, name) \u001b[39m-\u001b[39m\u001b[39m>\u001b[39m \u001b[39mNone\u001b[39;00m:\n\u001b[0;32m--> 288\u001b[0m     \u001b[39msuper\u001b[39m()\u001b[39m.\u001b[39m\u001b[39m__init__\u001b[39m(torch\u001b[39m.\u001b[39;49m_C\u001b[39m.\u001b[39;49mPyTorchFileWriter(\u001b[39mstr\u001b[39;49m(name)))\n",
      "\u001b[0;31mRuntimeError\u001b[0m: Parent directory ../models does not exist."
     ]
    }
   ],
   "source": [
    "net.save_model(model_filepath)"
   ]
  },
  {
   "cell_type": "code",
   "execution_count": null,
   "metadata": {},
   "outputs": [
    {
     "name": "stdout",
     "output_type": "stream",
     "text": [
      "Model loaded from ../models/main-simulation-N-64-L-10-Myu-4.pt\n"
     ]
    },
    {
     "name": "stderr",
     "output_type": "stream",
     "text": [
      "100%|██████████| 100/100 [00:13<00:00,  7.58it/s]\n"
     ]
    }
   ],
   "source": [
    "net.load_model(model_filepath)\n",
    "\n",
    "original_optimizer = net.optimizer\n",
    "additional_optimizer = type(original_optimizer)(net.parameters(), **{k: v for k, v in original_optimizer.defaults.items()})\n",
    "\n",
    "net.myuoptimizer.param_groups[0]['lr'] = 0.1\n",
    "net.optimizer.param_groups[0]['lr'] = 1e-4\n",
    "\n",
    "epochs = 100\n",
    "batch_size = 512\n",
    "verbose = 2\n",
    "\n",
    "state.myu = net.myu\n",
    "L = []\n",
    "for s in state.generate_batches(nbatches = epochs, batch_size = batch_size, verbose = verbose):\n",
    "    net.optimizer.zero_grad()\n",
    "    net.myuoptimizer.zero_grad()\n",
    "    y = s.get_2d_tensor_state().T\n",
    "    f, y_pred = MYULOSS.net_f(net,s)\n",
    "    MS, RI = net.msef(\n",
    "            y_pred if is_simulation else ALLINPUTNET.y_proc(y_pred)\n",
    "        ,y)\n",
    "    FMSE = torch.mean(torch.abs(f) ** 2) / torch.sum(y_pred**2)\n",
    "    L.append(\n",
    "        (MS.cpu().detach().numpy(),\n",
    "        RI.cpu().detach().numpy(),\n",
    "        FMSE.cpu().detach().numpy())\n",
    "        )\n",
    "    (FMSE + MS + RI).backward(retain_graph=True)\n",
    "    net.optimizer.step()\n",
    "    net.myuoptimizer.step()\n",
    "    free_memory(FMSE, MS, RI, f, y_pred)\n",
    "\n",
    "L = np.array(L)"
   ]
  },
  {
   "cell_type": "code",
   "execution_count": null,
   "metadata": {},
   "outputs": [
    {
     "name": "stdout",
     "output_type": "stream",
     "text": [
      "tensor([[62.8076, 58.0122, 67.1015, 58.0695],\n",
      "        [60.0504, 61.0158, 63.7022, 59.0744],\n",
      "        [64.4846, 59.5424, 61.1849, 57.8120],\n",
      "        [66.0216, 60.3655, 58.5913, 58.7427]], dtype=torch.float64,\n",
      "       grad_fn=<SelectBackward0>)\n"
     ]
    },
    {
     "data": {
      "image/png": "[encoded data removed]",
      "text/plain": [
       "<Figure size 640x480 with 1 Axes>"
      ]
     },
     "metadata": {},
     "output_type": "display_data"
    }
   ],
   "source": [
    "print(net.myuparam[-1])\n",
    "plt.plot(L)\n",
    "plt.yscale('log')\n",
    "plt.xlabel('epochs')\n",
    "plt.ylabel('Custom Loss')\n",
    "plt.savefig(f'{mtlibpath_prefix}_allinputnet001.png')"
   ]
  },
  {
   "cell_type": "markdown",
   "id": "06b2c683",
   "metadata": {},
   "source": [
    "## Visualizing and saving plot gifs"
   ]
  },
  {
   "cell_type": "code",
   "execution_count": null,
   "id": "dc353247",
   "metadata": {},
   "outputs": [],
   "source": [
    "def process_frame(index, u_im_real, o_im_real, phase,  title):\n",
    "    fig, axs = plt.subplots(1, 3, figsize=(18, 6))\n",
    "    \n",
    "    # Display the u_pred image\n",
    "    im1 = axs[0].imshow(u_im_real[index])\n",
    "    axs[0].set_title(title + \" (u_pred) without normalization\" + f\" - Frame: {index}\")\n",
    "    axs[0].title.set_position([.5, 1.05])\n",
    "    \n",
    "    # Display the original image\n",
    "    im2 = axs[1].imshow(o_im_real[index])\n",
    "    axs[1].set_title(title + \" (original) without normalization\" + f\" - Frame: {index}\")\n",
    "    axs[1].title.set_position([.5, 1.05])\n",
    "    \n",
    "    # Display the difference image\n",
    "    im3 = axs[2].imshow(np.abs(u_im_real[index] - o_im_real[index]))\n",
    "    axs[2].set_title(title + \" (difference) without normalization\" + f\" - Frame: {index}\")\n",
    "    axs[2].title.set_position([.5, 1.05])\n",
    "    \n",
    "    # Add colorbars\n",
    "    fig.colorbar(im1, ax=axs[0], fraction=0.046, pad=0.04)\n",
    "    fig.colorbar(im2, ax=axs[1], fraction=0.046, pad=0.04)\n",
    "    fig.colorbar(im3, ax=axs[2], fraction=0.046, pad=0.04)\n",
    "    \n",
    "    # Draw the figure and store the image\n",
    "    fig.canvas.draw()\n",
    "    image = np.frombuffer(fig.canvas.tostring_rgb(), dtype='uint8')\n",
    "    image = image.reshape(fig.canvas.get_width_height()[::-1] + (3,))\n",
    "\n",
    "    plt.close(fig)\n",
    "    \n",
    "    return image"
   ]
  },
  {
   "cell_type": "code",
   "execution_count": null,
   "id": "a85e3095",
   "metadata": {},
   "outputs": [],
   "source": [
    "def process_subframe(fig, ax, m, title):\n",
    "    \n",
    "    im = ax.imshow(m)\n",
    "    ax.title.set_position([.5, 1.05])\n",
    "    im = fig.colorbar(im, ax=ax, fraction=0.046, pad=0.04)\n",
    "    ax.set_title(title)\n",
    "    \n",
    "def process_frame(M, titles):\n",
    "    figsize = (M.shape[0], M.shape[1])\n",
    "    fig, axs = plt.subplots(*figsize, figsize=(18, 6))\n",
    "    \n",
    "    # Draw\n",
    "    for i in range(figsize[0]):\n",
    "        for j in range(figsize[1]):\n",
    "            ax = axs[i][j]\n",
    "            process_subframe(fig,axs[i][j], M[i][j],titles[i][j])\n",
    "            \n",
    "    # Draw the figure and store the image\n",
    "    fig.canvas.draw()\n",
    "    image = np.frombuffer(fig.canvas.tostring_rgb(), dtype='uint8')\n",
    "    image = image.reshape(fig.canvas.get_width_height()[::-1] + (3,))\n",
    "\n",
    "    plt.close(fig)\n",
    "    \n",
    "    return image   \n",
    "\n",
    "def create_video(M,titles, videotitle, save=True, fps=30):\n",
    "    \n",
    "    \n",
    "    num_cores = multiprocessing.cpu_count()\n",
    "#    images = Parallel(n_jobs=num_cores)(delayed(process_frame)((m,titles) for m in tqdm(M)))\n",
    "    images = [process_frame(m,titles) for m in M]\n",
    "    if save:\n",
    "        images_to_video(images, videotitle, fps=30)\n",
    "        print(\"Video successfully saved at\", videotitle)\n",
    "    \n",
    "    return None\n",
    "\n",
    "def create_video(M,titles, videotitle, save=True, fps=30):\n",
    "    \n",
    "    \n",
    "    images = [process_frame(m,titles) for m in M]\n",
    "    #Parallel(n_jobs=num_cores)(delayed(process_frame)(m, titles) for m in tqdm(M))\n",
    "    if save:\n",
    "        # Convert images to 8-bit color for video\n",
    "        images = [cv2.cvtColor(img, cv2.COLOR_RGB2BGR) for img in images]\n",
    "        height, width, _ = images[0].shape\n",
    "        video = cv2.VideoWriter(videotitle, cv2.VideoWriter_fourcc(*'mp4v'), fps, (width, height))\n",
    "        for img in images:\n",
    "            video.write(img)\n",
    "        video.release()\n",
    "        print(\"Video successfully saved at\", videotitle)\n",
    "    \n",
    "    return None"
   ]
  },
  {
   "cell_type": "code",
   "execution_count": null,
   "id": "a58e04c3",
   "metadata": {},
   "outputs": [],
   "source": [
    "from __future__ import annotations\n",
    "import cv2\n",
    "import torch\n",
    "import imageio\n",
    "import numpy as np\n",
    "import multiprocessing\n",
    "import matplotlib.pyplot as plt\n",
    "\n",
    "from tqdm import tqdm\n",
    "from typing import List, Optional\n",
    "from joblib import Parallel, delayed\n",
    "from torch.nn.parameter import Parameter\n",
    "from IPython.display import display, Image\n",
    "\n"
   ]
  },
  {
   "cell_type": "code",
   "execution_count": null,
   "id": "85d820d0",
   "metadata": {},
   "outputs": [],
   "source": [
    "module_sq = lambda a: np.real(a)**2 + np.imag(a)**2\n",
    "phase = lambda a: np.arcsin(np.real(a)/np.sqrt(np.real(a)**2+np.imag(a)**2))\n",
    "real_imag = lambda a: np.real(a)*np.imag(a)\n",
    "real = lambda a: np.real(a)\n",
    "imag = lambda a: np.imag(a)\n",
    "\n",
    "funlist_name = [\"module_sq\", \"phase\",\"real_imag\",\"real\",\"imag\"]\n",
    "funlist = [module_sq, phase, real_imag, real, imag]\n",
    "\n",
    "myu = myu_original[0]\n",
    "myupred = net.myu.cpu().detach().numpy()\n",
    "\n",
    "A_pred = net.predict(state.flatten().get_2d_tensor_xyt().T).reshape(A_original[0].shape)"
   ]
  },
  {
   "cell_type": "code",
   "execution_count": null,
   "id": "4f9c59c1",
   "metadata": {},
   "outputs": [],
   "source": [
    "ATenzor = np.array([np.stack([\n",
    "                    np.stack([fun(A) for fun in funlist]),\n",
    "                    np.stack([fun(Ap) for fun in funlist])\n",
    "                    ]) for A, Ap in zip(A_original[0], A_pred)])\n",
    "                    "
   ]
  },
  {
   "cell_type": "code",
   "execution_count": null,
   "id": "82f95739",
   "metadata": {},
   "outputs": [],
   "source": [
    "MTenzor = np.array([np.array([m,mp]) for m, mp in zip(myu,myupred)])"
   ]
  },
  {
   "cell_type": "code",
   "execution_count": null,
   "id": "d4af55d0",
   "metadata": {},
   "outputs": [],
   "source": [
    "AMTenzor = np.concatenate((MTenzor[:, :, np.newaxis, :, :], ATenzor), axis=2)"
   ]
  },
  {
   "cell_type": "code",
   "execution_count": null,
   "id": "ae2d619f",
   "metadata": {},
   "outputs": [
    {
     "name": "stdout",
     "output_type": "stream",
     "text": [
      "Video successfully saved at main-simulation-N-64-L-10-Myu-4.mp4\n"
     ]
    }
   ],
   "source": [
    "create_video(AMTenzor, titles=[['myu'] + funlist_name]*2, videotitle = path+'.mp4')"
   ]
  },
  {
   "cell_type": "code",
   "execution_count": null,
   "metadata": {},
   "outputs": [
    {
     "data": {
      "text/plain": [
       "2"
      ]
     },
     "execution_count": 24,
     "metadata": {},
     "output_type": "execute_result"
    }
   ],
   "source": [
    "1+1"
   ]
  },
  {
   "cell_type": "code",
   "execution_count": null,
   "metadata": {},
   "outputs": [],
   "source": []
  },
  {
   "cell_type": "code",
   "execution_count": null,
   "metadata": {},
   "outputs": [],
   "source": []
  }
 ],
 "metadata": {
  "colab": {
   "provenance": []
  },
  "kernelspec": {
   "display_name": "Python 3 (ipykernel)",
   "language": "python",
   "name": "python3"
  },
  "language_info": {
   "codemirror_mode": {
    "name": "ipython",
    "version": 3
   },
   "file_extension": ".py",
   "mimetype": "text/x-python",
   "name": "python",
   "nbconvert_exporter": "python",
   "pygments_lexer": "ipython3",
   "version": "3.9.6"
  }
 },
 "nbformat": 4,
 "nbformat_minor": 5
}
