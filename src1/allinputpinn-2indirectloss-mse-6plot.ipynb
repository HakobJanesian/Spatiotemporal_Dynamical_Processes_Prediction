{
 "cells": [
  {
   "cell_type": "code",
   "execution_count": 1,
   "id": "5663c8db",
   "metadata": {
    "colab": {
     "base_uri": "https://localhost:8080/"
    },
    "id": "5663c8db",
    "outputId": "7d8ac497-e64c-4651-d0a8-940525f10cb9"
   },
   "outputs": [
    {
     "name": "stdout",
     "output_type": "stream",
     "text": [
      "Enabling notebook extension jupyter-js-widgets/extension...\n",
      "      - Validating: \u001b[32mOK\u001b[0m\n"
     ]
    }
   ],
   "source": [
    "!jupyter nbextension enable --py widgetsnbextension\n"
   ]
  },
  {
   "cell_type": "code",
   "execution_count": 2,
   "id": "326e00db",
   "metadata": {
    "colab": {
     "base_uri": "https://localhost:8080/"
    },
    "id": "326e00db",
    "outputId": "32ce64ff-b91e-4127-fd79-46183bd95faf"
   },
   "outputs": [
    {
     "data": {
      "text/plain": [
       "device(type='cpu')"
      ]
     },
     "execution_count": 2,
     "metadata": {},
     "output_type": "execute_result"
    }
   ],
   "source": [
    "#import cv2\n",
    "import torch\n",
    "import imageio\n",
    "import torch.nn as nn\n",
    "import numpy as np\n",
    "import matplotlib.pyplot as plt\n",
    "import torch.nn.functional as F\n",
    "from torch.utils.data import DataLoader\n",
    "\n",
    "import torch\n",
    "import torch.nn.functional as F\n",
    "\n",
    "from tqdm.notebook import tqdm\n",
    "from torch import Tensor\n",
    "from itertools import compress, cycle\n",
    "from collections import OrderedDict\n",
    "from scipy.interpolate import griddata\n",
    "from IPython.display import Image\n",
    "\n",
    "from utils.utils import *\n",
    "\n",
    "from utils.plotting import Plotter\n",
    "from utils.gl_solver import GLSolver\n",
    "from utils.parameters_init import ParametersInit\n",
    "from utils.random_input_field import RandomInputField\n",
    "\n",
    "import warnings\n",
    "warnings.filterwarnings('ignore')\n",
    "\n",
    "EPOCHS = 20_000\n",
    "LR = 1\n",
    "# SEED = 1234\n",
    "\n",
    "# np.random.seed(SEED)\n",
    "# torch.manual_seed(SEED)\n",
    "# torch.cuda.manual_seed(SEED)\n",
    "# torch.cuda.manual_seed_all(SEED)\n",
    "# torch.set_default_tensor_type(torch.FloatTensor)\n",
    "\n",
    "device = torch.device(\"cuda:0\" if torch.cuda.is_available() else \"cpu\")\n",
    "device"
   ]
  },
  {
   "cell_type": "code",
   "execution_count": 3,
   "id": "c86852a0",
   "metadata": {
    "scrolled": true
   },
   "outputs": [
    {
     "name": "stderr",
     "output_type": "stream",
     "text": [
      "  0%|          | 0/200 [00:00<?, ?it/s]"
     ]
    },
    {
     "name": "stderr",
     "output_type": "stream",
     "text": [
      "100%|██████████| 200/200 [00:00<00:00, 4009.87it/s]"
     ]
    },
    {
     "name": "stdout",
     "output_type": "stream",
     "text": [
      "Unique Myus count\t 512\n",
      "Max value of myu:\t 117.1843611549054\n",
      "Min value of myu:\t 22.239506440530576\n",
      "Unique values: [22.239506440530576, 23.791315890724274, 25.927079233024294, 26.976174610675017, 27.201046313040894, 27.495451004629714, 30.073694841596442, 31.028670788184076, 31.30102833529873, 31.335988118627515, 31.869368756035204, 31.938993730609265, 32.80916610728368, 32.928346962768174, 33.95662692989527, 34.410086480228415, 34.48155109439352, 34.597430858886476, 34.88179943321419, 34.935041790733464, 34.961895088302484, 35.04624168068196, 35.4862253246974, 35.593858399267354, 35.80544203816217, 36.00965648540534, 36.346749880874725, 36.80157704622011, 36.802103163181116, 36.968244866451215, 37.340477994385324, 37.52628113851591, 37.6225269925818, 37.96117382922439, 38.05388248183619, 38.44814363654829, 38.50763557370484, 38.856851040860114, 39.10039916082149, 39.114894357078576, 39.3143825945647, 39.563859503149494, 39.73911874928465, 39.99281087575391, 40.01233008515505, 40.016749790640944, 40.033335486299066, 40.39286734067488, 40.57341271634263, 41.11580024961424, 41.34371619658998, 41.58045109873352, 41.8769709314692, 41.952256526098445, 42.17978658320886, 42.19438149754456, 42.36325833375425, 42.42115750497616, 42.499415116408855, 42.51467011392449, 42.58986042418892, 42.68569491716425, 42.69737369885731, 42.8381039871039, 42.96904352316223, 43.08736870768881, 43.16655724326344, 43.24843703299799, 43.73053501938994, 43.79886396168862, 44.19117170973158, 44.20553683950771, 44.26280158839593, 44.278700078118106, 44.33055073887305, 44.49072184451584, 44.766960762694026, 44.848729139318856, 44.97949709843298, 44.99176771512371, 45.12995776190815, 45.31298388924263, 45.33752988307493, 45.68892728490489, 45.77371758509731, 45.77988752430546, 45.947391911087806, 45.97771541971209, 46.103764831466215, 46.114433963288555, 46.1170669917824, 46.23435278044381, 46.296093256573435, 46.44468656414237, 46.4924746886699, 46.494383199716864, 46.603176941196566, 46.62821090189074, 46.76561076667377, 46.88953872572982, 46.89095203680524, 47.05218729659358, 47.053030638656175, 47.08274961745843, 47.10748675070723, 47.28315334812209, 47.32423184439971, 47.35053347447678, 47.36622669623621, 47.45030908696325, 47.518721144699676, 47.53250873979936, 47.75921374135811, 47.851271371322674, 47.86458164216863, 48.024327165332835, 48.170507799561754, 48.256905813713615, 48.26202903531878, 48.387206159800805, 48.48387043036332, 48.50668518384569, 48.94148247842319, 48.94461141689404, 49.1894841423801, 49.27952797145639, 49.28417955057323, 49.51938788773367, 49.594108992953785, 49.63358793350996, 49.87388238037891, 49.90819004727298, 49.94997277881184, 50.11041901906241, 50.237655220057, 50.42276593037558, 50.704771004527004, 50.71698508104216, 50.719475578296795, 50.721495850873254, 50.83957084629479, 51.01333930453981, 51.11173089752108, 51.2351558000124, 51.45518572131961, 51.48994623128534, 51.77239702025403, 51.79321736754657, 51.79380362767745, 51.93607606466712, 51.95128580420682, 51.996355852008584, 52.035544240773085, 52.153459868597636, 52.27144097469965, 52.316359431709785, 52.36124933639231, 52.45193290133426, 52.50447770378442, 52.598030814803984, 52.79157365094959, 52.836236705782596, 52.848277357671584, 52.97244179145619, 53.18887199406237, 53.27130364789046, 53.30200161168384, 53.354729228605194, 53.43536906605535, 53.50399896682154, 53.537816066334145, 53.69819848076174, 53.73238554270325, 53.745141780665136, 53.861937201179735, 53.996345440288295, 54.07901656231871, 54.17050859268683, 54.232287903461106, 54.28313110237044, 54.43056943296032, 54.57196189754306, 54.624526452021534, 54.668667120341226, 54.792411779930546, 54.79277621978909, 54.8997027730909, 54.99590073260538, 55.10861245247595, 55.181604196756574, 55.401899225071155, 55.47782694992764, 55.50561817416585, 55.551048603727104, 55.553485274074376, 55.63977352271232, 55.68237010022913, 55.720976608147794, 55.73189751965833, 55.74466769249213, 55.769043354338365, 55.78180662135798, 55.85617945448649, 55.87484494123323, 55.96025022058312, 56.07034893139981, 56.16445363398954, 56.34225033859264, 56.34761125230491, 56.48379230431346, 56.48877920060284, 56.52772732085276, 56.569351981944926, 56.65385577727365, 56.73368104050013, 56.796319063132735, 56.8508189983499, 56.98956663955719, 57.05131768034588, 57.078724346389244, 57.147611044092955, 57.15120627524484, 57.16982475655362, 57.2279773250688, 57.39444740027011, 57.39955419428061, 57.4443291619622, 57.53353787742159, 57.564703647935374, 57.59579974007745, 57.70836917944137, 57.77938827657037, 57.800663346877606, 57.803221051565195, 57.973937505668374, 58.02359637107673, 58.0332121821103, 58.06008327030185, 58.08549731271368, 58.102673414636264, 58.11790318233603, 58.25739022630552, 58.258586660173286, 58.31242999112192, 58.32724766200191, 58.37128949728945, 58.472064314543424, 58.47869049986631, 58.62401745142543, 58.74215380698968, 58.826807896228416, 58.97406392042803, 59.19289864797773, 59.20699421233104, 59.403532392687474, 59.818597793811755, 59.846808160631234, 60.01207629418763, 60.04303511633319, 60.29803776507915, 60.39777437004094, 60.410121550999435, 60.723402646875385, 60.74635642174825, 60.749007843398985, 60.77968710371187, 60.79029599644892, 60.79401029091925, 60.88440826971174, 60.93326446046943, 61.02583280780487, 61.18827498151671, 61.352729131729575, 61.418972210623565, 61.50498619829784, 61.58014267388874, 61.84067649684126, 61.96845334337059, 62.0423154634819, 62.10906921871749, 62.28907924187722, 62.47957663694205, 62.537672899212964, 62.55393401660225, 62.62453138173531, 62.644761534139796, 62.673879785569305, 62.76489889120651, 63.02493996098682, 63.038522948299864, 63.0657400381474, 63.16215148099823, 63.201674127464514, 63.249902459598374, 63.29993450350321, 63.308024603838376, 63.32768754689648, 63.345453032011164, 63.68419396722984, 63.69951966612986, 63.879437813974874, 63.905096641771806, 63.99319500077543, 64.05802672001238, 64.15042917812612, 64.19183394523063, 64.39778358889815, 64.40358763987322, 64.43163976182997, 64.48214143112916, 64.50186957465769, 64.5360944399883, 64.58494496293653, 64.6202102335917, 64.70275858156732, 64.7868573738203, 64.84050646719679, 64.87297651398598, 64.92881947281327, 64.94583237172596, 64.96464355190322, 65.02404858822545, 65.02557684475897, 65.20938896015991, 65.24352525258884, 65.27303687952742, 65.46228213796688, 65.51345768166148, 65.59892384816875, 65.90905384440838, 66.04802412297713, 66.07754146541588, 66.17402446002185, 66.23954233916969, 66.32886237926677, 66.35776093736213, 66.4529408015864, 66.53561339942567, 66.55109914381322, 66.5557316726859, 66.56131812164034, 66.68679508322418, 66.70119372229281, 66.87926523095084, 67.04513842051142, 67.31027376546233, 67.37455937029256, 67.46680499568822, 67.84705814873402, 67.8975267833547, 67.93873887956455, 67.95363380179707, 68.00297394481332, 68.10692812784085, 68.43193736692336, 68.52179890777472, 68.5842611632933, 68.69777262202095, 68.7624270602177, 69.1758111782724, 69.21408118675284, 69.28757549877776, 69.30534076742832, 69.57435401246784, 69.63015970574745, 69.64725757414242, 69.76902933869421, 69.77222306728456, 69.82019556021801, 69.83953959971149, 69.85195213971464, 69.96386167443795, 70.01671956889996, 70.03714659287597, 70.06545090747942, 70.18515159854158, 70.42554786725981, 70.50472468139783, 70.51556469889175, 70.54446285767196, 70.6182437919908, 70.67739796141721, 70.81965184500056, 70.98041359447122, 71.03023092366399, 71.3505399932795, 71.54007890332112, 71.54811014936169, 71.95628971600574, 71.9587058614854, 71.95974202835254, 71.96219043147921, 72.0372337446174, 72.09515363303971, 72.17569097909913, 72.23184116455944, 72.34855511500518, 72.44229588147374, 72.5224923594663, 72.58356165101183, 72.64519540891244, 72.6670872506596, 73.00176712686611, 73.0261580527594, 73.03294927377009, 73.06651537823079, 73.15200349305833, 73.20432578641851, 73.27438519118392, 73.28773947807342, 73.50377701019701, 73.93974959104091, 74.05467926734565, 74.05750833977635, 74.12860652530917, 74.18244470300374, 74.5312674841905, 74.81707632660927, 74.82079503588241, 75.1426888703342, 75.1729479862263, 75.18285915924304, 75.26557015846777, 75.68007564273081, 75.81251397618432, 75.97695496014484, 76.12889247858541, 76.16271457043828, 76.22712182015808, 76.67435084893496, 76.77758768060173, 76.87505753965135, 76.97804797047675, 77.1277548025583, 77.4163045002407, 77.54098170663903, 77.56751885633713, 77.57492083750394, 77.88937402976643, 77.9275863285598, 78.39169307952649, 78.57463804148684, 78.69158106985915, 79.00189399747292, 79.09891482236718, 79.24105712564845, 79.48297806391875, 79.51617586476371, 79.69648686960663, 79.73023227159538, 79.7678578465932, 80.07879526485013, 80.18090302283782, 80.34471301904146, 80.46095052067952, 80.50990364794316, 81.67527347693651, 81.7556726011548, 82.02657417419258, 82.05228040974804, 82.12203720937622, 82.15036336654147, 82.15418079273566, 82.43132838806036, 82.52350153548889, 82.9597214763275, 83.10536611193416, 83.20017718818129, 83.26886871868682, 83.91227684989293, 84.39646863596292, 84.55638261149187, 84.63463954331888, 84.88274371242761, 85.06494657305105, 85.43986201140157, 85.55464061335695, 85.79475367364688, 86.08381447990722, 86.10424144326751, 86.15516194803178, 86.23876342477254, 86.53045802278976, 87.10894910429703, 87.4439497952721, 87.84961531121391, 88.11704362479655, 88.21872123493037, 89.31923526160693, 89.37344187536713, 89.87629696798156, 90.54344734581721, 90.80505629098182, 91.10257298717752, 91.1513946556753, 91.8055811058303, 91.97109604263595, 92.12972056901306, 92.41453681718399, 92.75546465731098, 93.17078591622379, 94.13844553335682, 94.51223038445744, 94.67531055398322, 94.68668544115243, 96.62711552365863, 97.00503858697587, 99.6689967878286, 101.58485523463061, 103.26152897317536, 107.02106198830069, 117.1843611549054]\n",
      "Counts:\t\t [400 400 400 400 400 400 400 400 400 400 400 400 400 400 400 400 400 400\n",
      " 400 400 400 400 400 400 400 400 400 400 400 400 400 400 400 400 400 400\n",
      " 400 400 400 400 400 400 400 400 400 400 400 400 400 400 400 400 400 400\n",
      " 400 400 400 400 400 400 400 400 400 400 400 400 400 400 400 400 400 400\n",
      " 400 400 400 400 400 400 400 400 400 400 400 400 400 400 400 400 400 400\n",
      " 400 400 400 400 400 400 400 400 400 400 400 400 400 400 400 400 400 400\n",
      " 400 400 400 400 400 400 400 400 400 400 400 400 400 400 400 400 400 400\n",
      " 400 400 400 400 400 400 400 400 400 400 400 400 400 400 400 400 400 400\n",
      " 400 400 400 400 400 400 400 400 400 400 400 400 400 400 400 400 400 400\n",
      " 400 400 400 400 400 400 400 400 400 400 400 400 400 400 400 400 400 400\n",
      " 400 400 400 400 400 400 400 400 400 400 400 400 400 400 400 400 400 400\n",
      " 400 400 400 400 400 400 400 400 400 400 400 400 400 400 400 400 400 400\n",
      " 400 400 400 400 400 400 400 400 400 400 400 400 400 400 400 400 400 400\n",
      " 400 400 400 400 400 400 400 400 400 400 400 400 400 400 400 400 400 400\n",
      " 400 400 400 400 400 400 400 400 400 400 400 400 400 400 400 400 400 400\n",
      " 400 400 400 400 400 400 400 400 400 400 400 400 400 400 400 400 400 400\n",
      " 400 400 400 400 400 400 400 400 400 400 400 400 400 400 400 400 400 400\n",
      " 400 400 400 400 400 400 400 400 400 400 400 400 400 400 400 400 400 400\n",
      " 400 400 400 400 400 400 400 400 400 400 400 400 400 400 400 400 400 400\n",
      " 400 400 400 400 400 400 400 400 400 400 400 400 400 400 400 400 400 400\n",
      " 400 400 400 400 400 400 400 400 400 400 400 400 400 400 400 400 400 400\n",
      " 400 400 400 400 400 400 400 400 400 400 400 400 400 400 400 400 400 400\n",
      " 400 400 400 400 400 400 400 400 400 400 400 400 400 400 400 400 400 400\n",
      " 400 400 400 400 400 400 400 400 400 400 400 400 400 400 400 400 400 400\n",
      " 400 400 400 400 400 400 400 400 400 400 400 400 400 400 400 400 400 400\n",
      " 400 400 400 400 400 400 400 400 400 400 400 400 400 400 400 400 400 400\n",
      " 400 400 400 400 400 400 400 400 400 400 400 400 400 400 400 400 400 400\n",
      " 400 400 400 400 400 400 400 400 400 400 400 400 400 400 400 400 400 400\n",
      " 400 400 400 400 400 400 400 400]\n",
      "A.shape=(1, 200, 32, 32),\n",
      "Myu.shape=(1, 200, 32, 32),\n",
      "\n",
      "Any NaN values in Myu\t\t False\n",
      "Any NaN values in A_original\t False\n"
     ]
    },
    {
     "name": "stderr",
     "output_type": "stream",
     "text": [
      "\n"
     ]
    }
   ],
   "source": [
    "\n",
    "Nx=32\n",
    "Ny=32\n",
    "\n",
    "\n",
    "Lx= 60\n",
    "Ly= 60\n",
    "T_end = 1\n",
    "dt = 0.005\n",
    "\n",
    "myubatch_size = 32768\n",
    "\n",
    "path = f\"allinputpinn-6plot-N-{Nx}-L-{Lx}-Myu-8\"\n",
    "mtlibpath_prefix = f\"allinputpinn-6plot-N-{Nx}-L-{Lx}-Myu-8_mtl\"\n",
    "\n",
    "input_to_defect_ratio_sqrt = Nx // 8\n",
    "N_ITERATIONS = int(T_end / dt)\n",
    "A_norm, A_original, mem_rate, myu_original = compute_A_norm(\n",
    "    Nx=Nx, \n",
    "    Ny=Ny, \n",
    "    input_to_defect_ratio=input_to_defect_ratio_sqrt*input_to_defect_ratio_sqrt, \n",
    "    mean=5.4, \n",
    "    std_deviation=0.8, \n",
    "    time_period=25, \n",
    "    Lx=Lx, \n",
    "    Ly=Ly, \n",
    "    dt=dt, \n",
    "    T_End=T_end, \n",
    "    parallel_runs=1, \n",
    "    input_scale=0.75, \n",
    "    mem_coef=1, \n",
    "    time_period_parameter=25, \n",
    "    _mean=5.4, \n",
    "    std_deviation_run_computation=1,\n",
    "    input_myu=None\n",
    ")"
   ]
  },
  {
   "cell_type": "markdown",
   "id": "1D-Md_qQdSn-",
   "metadata": {
    "id": "1D-Md_qQdSn-"
   },
   "source": [
    "GETTING HANDS DIRTY WITH THE NEURAL NETWORKS"
   ]
  },
  {
   "cell_type": "code",
   "execution_count": 4,
   "id": "yp-gI3_HdVWJ",
   "metadata": {
    "id": "yp-gI3_HdVWJ"
   },
   "outputs": [],
   "source": [
    "x = np.linspace(0, Lx, Nx).flatten()[:, None]\n",
    "y = np.linspace(0, Ly, Ny).flatten()[:, None]\n",
    "t = np.linspace(0, T_end, N_ITERATIONS).flatten()[:, None]\n",
    "\n",
    "Exact = A_original.squeeze(0)\n",
    "\n",
    "X, T, Y = np.meshgrid(x, t, y)\n",
    "\n",
    "X_star = np.hstack((X.flatten()[:, None], Y.flatten()[:, None], T.flatten()[:, None]))\n",
    "u_star = Exact.flatten()\n",
    "u_star = np.hstack([u_star.real[:, None],u_star.imag[:, None]])"
   ]
  },
  {
   "cell_type": "markdown",
   "id": "c9462a89",
   "metadata": {
    "id": "c9462a89"
   },
   "source": [
    "$$\n",
    "\\begin{aligned}\n",
    "\\partial_{t} A &= \\mu A+\\Delta A-|A|^{2} A\n",
    "\\end{aligned}\n",
    "$$"
   ]
  },
  {
   "cell_type": "code",
   "execution_count": 5,
   "id": "9bad1d8c",
   "metadata": {},
   "outputs": [],
   "source": [
    "class ALLINPUTNET(nn.Module):\n",
    "    def __init__(self, layers_list, activation_function_list = None, linm = None):\n",
    "        super(ALLINPUTNET, self).__init__()\n",
    "        self._depth = len(layers_list) - 1\n",
    "        \n",
    "        if activation_function_list is None:\n",
    "            activation_function_list = [F.softplus for _ in range(self._depth - 1)]\n",
    "            \n",
    "        if linm is None:\n",
    "            linm =  np.tril(np.ones(self._depth + 1, dtype = int))\n",
    "        lin = linm@layers_list\n",
    "        \n",
    "        self._activation_function_list = activation_function_list\n",
    "        \n",
    "        self._Wtmx = nn.Sequential(*[torch.nn.Linear(lin[i], layers_list[i+1], dtype = torch.float64) for i in range(self._depth)])\n",
    "        self._linm = linm\n",
    "        \n",
    "        self.optimizer = torch.optim.Adam( params = self._Wtmx.parameters(), lr=0.01 )    \n",
    "        \n",
    "    def forward(self, x):\n",
    "        layers = [x,self._Wtmx[0](x)]\n",
    "        for i in range(1, self._depth):\n",
    "            layers[i] = self._activation_function_list[i-1](layers[i])\n",
    "            ind = self._linm[i]\n",
    "            inpind = np.where(ind)[0]\n",
    "            inp = torch.concat([layers[i] for i in inpind], dim = -1)\n",
    "            layers.append(self._Wtmx[i](inp))\n",
    "        return layers[-1]        \n",
    "\n",
    "    def predict(self, x):\n",
    "        self._Wtmx.eval()\n",
    "        if type(x) is not torch.Tensor:\n",
    "            x = torch.tensor(x, dtype = torch.float64).to(device)\n",
    "        y =  self.forward(x).cpu().detach().numpy()\n",
    "        return y[:,0] + y[:,1]*1j    \n",
    "\n",
    "    def rmsef(self, y, y_pred):\n",
    "        mseloss = torch.sum((y_pred - y)**2, dim = 1)\n",
    "        return torch.mean(torch.sqrt(mseloss))   \n",
    "\n",
    "    def msef(self, y, y_pred):\n",
    "        return torch.mean((y_pred - y)**2)       \n",
    "\n",
    "    \n",
    "    def y_proc(y):\n",
    "        MS = y[:,1] * y[:,0]\n",
    "        IR = y[:,1] ** 2 +  y[:,0] ** 2\n",
    "        return torch.vstack((MS,IR)).T\n",
    "\n",
    "    def fastbatchtrain(self, x, y_proc, epochs=100, batch_size = 64):\n",
    "        \n",
    "        x = torch.tensor(x, dtype = torch.float64).to(device)\n",
    "        y_proc = torch.tensor(y_proc, dtype = torch.float64).to(device)\n",
    "        dataloader = DataLoader(dataset = torch.hstack((x,y_proc)), batch_size=batch_size, shuffle=True)\n",
    "        \n",
    "        self.optimizer.zero_grad()\n",
    "        L = []\n",
    "        \n",
    "        pbar = tqdm(total=epochs)\n",
    "        try:\n",
    "            while True:\n",
    "                if pbar.n >= epochs:\n",
    "                    break\n",
    "                for tmp in dataloader:\n",
    "                    (tmpx, tmpy, tmpt, tmpu_real, tmpu_img) = tmp.T\n",
    "                    X = torch.stack((tmpx,tmpy,tmpt)).T\n",
    "                    U = torch.stack((tmpu_real, tmpu_img)).T\n",
    "\n",
    "                    y_pred = self.forward(X)\n",
    "                    \n",
    "                    loss = self.msef(ALLINPUTNET.y_proc(y_pred),U)\n",
    "                    L.append(loss.cpu().detach().numpy())\n",
    "                    loss.backward()\n",
    "                    self.optimizer.step()\n",
    "                    self._Wtmx.zero_grad()\n",
    "                    self.optimizer.zero_grad()\n",
    "                    # Update the progress bar\n",
    "                    if pbar.n >= epochs:\n",
    "                        break\n",
    "                    pbar.update(1)\n",
    "                        \n",
    "        except Exception as e:\n",
    "            raise Exception(e)\n",
    "        finally:\n",
    "            # Close the progress bar\n",
    "            pbar.close()          \n",
    "        return L"
   ]
  },
  {
   "cell_type": "code",
   "execution_count": 6,
   "id": "4036c8f1",
   "metadata": {},
   "outputs": [],
   "source": [
    "class ALLINPUTPINN(ALLINPUTNET):\n",
    "    def __init__(self,*args,**kwargs):\n",
    "        super(ALLINPUTPINN, self).__init__(*args,**kwargs)\n",
    "#         myu = torch.randn(4, 2, dtype=torch.float64).to(device)\n",
    "#         myu = nn.Parameter(myu)\n",
    "#         self._Wtmx.register_parameter('myu', myu)\n",
    "#         self.myuparam = myu\n",
    "#         myu = transform_and_stack(myu, 4, 200).to(device).clone().requires_grad_(True)\n",
    "#         self.myu = myu.view(200, 4, 4)\n",
    "        self.myureset()\n",
    "    \n",
    "    def myureset(self):\n",
    "        myu = torch.randn(mem_rate, Nx//input_to_defect_ratio_sqrt, Ny//input_to_defect_ratio_sqrt, dtype=torch.float64).to(device)\n",
    "        myu = nn.Parameter(myu)\n",
    "        self.myuparam = myu\n",
    "        self._Wtmx.register_parameter('myu', myu)\n",
    "        \n",
    "    @property\n",
    "    def myu(self):\n",
    "        myu = F.interpolate(self.myuparam.unsqueeze(0), scale_factor=input_to_defect_ratio_sqrt, mode='nearest').squeeze()\n",
    "        return myu\n",
    "    \n",
    "    def loaddata_precalculate(self,x):\n",
    "        myuloss = MYULOSS(*tuple(x.T),self)\n",
    "        myuloss.calculate_f_withoutmyu()\n",
    "        self.myuloss = myuloss\n",
    "    \n",
    "    def fmsef(self, myu):\n",
    "        return self.myuloss.fmse(myu)\n",
    "    \n",
    "    def fmse(self):\n",
    "        return self.fmsef(self.myu)\n",
    "    \n",
    "    def myutrain(self, epochs=100, lr = 0.01):\n",
    "        \n",
    "        myuoptimizer = torch.optim.Adam( params = [self.myuparam], lr=lr ) \n",
    "        myuoptimizer.zero_grad()\n",
    "\n",
    "        for _ in tqdm(range(epochs)):\n",
    "            self.fmse().backward(retain_graph=True)\n",
    "            myuoptimizer.step()\n",
    "            myuoptimizer.zero_grad()\n",
    "        \n",
    "        FMSE = self.myuloss.FMSE\n",
    "        self.myuloss.clear()\n",
    "        return FMSE"
   ]
  },
  {
   "cell_type": "code",
   "execution_count": 7,
   "id": "fc59492e",
   "metadata": {},
   "outputs": [],
   "source": [
    "class MYULOSS:\n",
    "  def __init__(self, x, y, t, net, verbose = 0):\n",
    "      self.msef = nn.MSELoss()\n",
    "      self.FMSE = []\n",
    "      self.x = x\n",
    "      self.y = y\n",
    "      self.t = t\n",
    "      self.net = net\n",
    "        \n",
    "  def plot(self, title= 'MYU training'):\n",
    "    plt.plot(self.FMSE)\n",
    "    plt.yscale('log')\n",
    "    plt.title(title)\n",
    "    plt.xlabel('Epochs')\n",
    "    plt.ylabel('FMSE')\n",
    "    self.clear()\n",
    "    \n",
    "  def clear(self):\n",
    "    self.FMSE = []\n",
    "    \n",
    "  def fmse(self, myu):\n",
    "    f_loss = torch.mean(torch.abs(self.net_f(myu)) ** 2)\n",
    "    self.FMSE.append(f_loss.cpu().detach().numpy())\n",
    "    return f_loss\n",
    "  \n",
    "  def net_f(self, myu, verbose = 0):\n",
    "        return self.f_withoutmyu - myu*self.u \n",
    "    \n",
    "  def calculate_f_withoutmyu(self):\n",
    "        x,y,t = self.x, self.y, self.t\n",
    "        \n",
    "        u, u_t,u_xx,u_yy = MYULOSS.pref(x,y,t,net)\n",
    "        \n",
    "        self.u = u.cpu().detach()\n",
    "            \n",
    "        f_withoutmyu = u_t - (u_xx + u_yy) + torch.pow(torch.abs(u), 2)*u #- myu*u\n",
    "        self.f_withoutmyu = f_withoutmyu.cpu().detach()\n",
    "        free_memory(u_t, u_xx, u_yy, u, f_withoutmyu)\n",
    "\n",
    "    \n",
    "  def f_withoutmyu(x,y,t,ru,iu):\n",
    "        (ru_t, ru_x, ru_y) = torch.autograd.grad(ru, (t, x, y), grad_outputs=torch.ones_like(ru), create_graph=True, retain_graph=True)\n",
    "        (iu_t, iu_x, iu_y) = torch.autograd.grad(iu, (t, x, y), grad_outputs=torch.ones_like(iu), create_graph=True, retain_graph=True)\n",
    "\n",
    "        (ru_xx,) = torch.autograd.grad(ru_x, (x), grad_outputs=torch.ones_like(ru_x), create_graph=True)\n",
    "        (iu_xx,) = torch.autograd.grad(iu_x, (x), grad_outputs=torch.ones_like(iu_x), create_graph=True)\n",
    "\n",
    "        (ru_yy,) = torch.autograd.grad(ru_y, (y), grad_outputs=torch.ones_like(ru_y), create_graph=True)\n",
    "        (iu_yy,) = torch.autograd.grad(iu_y, (y), grad_outputs=torch.ones_like(iu_y), create_graph=True)\n",
    "\n",
    "        u =( ru + iu * 1j)\n",
    "        u_t = (ru_t + iu_t * 1j)\n",
    "        u_xx =( ru_xx + iu_xx *1j)\n",
    "        u_yy = (ru_yy + iu_yy *1j)\n",
    "        \n",
    "        return u, u_t,u_xx,u_yy\n",
    "    \n",
    "  def pref(x,y,t, net, batch_size = myubatch_size):\n",
    "    dataloader = DataLoader(dataset = X_star, batch_size = batch_size, shuffle=False)\n",
    "    cache = {\n",
    "        'u':[],\n",
    "        'u_t':[],\n",
    "        'u_xx':[],\n",
    "        'u_yy':[],\n",
    "    }\n",
    "    for tmp in tqdm(dataloader):\n",
    "        x,y,t = torch.tensor(tmp.T, dtype = torch.float64, requires_grad=True).to(device)\n",
    "        ru,iu = net.forward(torch.stack((x,y,t)).T).T\n",
    "        u, u_t,u_xx,u_yy = MYULOSS.f_withoutmyu(x,y,t,ru,iu)\n",
    "        cache['u'].append(u.cpu().detach())\n",
    "        cache['u_t'].append(u_t.cpu().detach())\n",
    "        cache['u_xx'].append(u_xx.cpu().detach())\n",
    "        cache['u_yy'].append(u_yy.cpu().detach())\n",
    "        \n",
    "    return  torch.cat(cache['u']).view(mem_rate, Nx, Ny), \\\n",
    "            torch.cat(cache['u_t']).view(mem_rate, Nx, Ny),\\\n",
    "            torch.cat(cache['u_xx']).view(mem_rate, Nx, Ny),\\\n",
    "            torch.cat(cache['u_yy']).view(mem_rate, Nx, Ny)\n",
    "\n",
    "      \n",
    "def free_memory(*variables):\n",
    "    del variables\n",
    "    torch.cuda.empty_cache()"
   ]
  },
  {
   "cell_type": "code",
   "execution_count": 8,
   "id": "315c3bfa",
   "metadata": {},
   "outputs": [],
   "source": [
    "torch.manual_seed(0)\n",
    "device = 'cpu'\n",
    "net = ALLINPUTPINN([3,8,32,64,32,8,2]).to(device)"
   ]
  },
  {
   "cell_type": "code",
   "execution_count": 9,
   "id": "cca6fd0a",
   "metadata": {},
   "outputs": [
    {
     "name": "stderr",
     "output_type": "stream",
     "text": [
      "100%|██████████| 100000/100000 [02:00<00:00, 829.69it/s]\n"
     ]
    }
   ],
   "source": [
    "u_star_proc = ALLINPUTNET.y_proc(torch.tensor(u_star, dtype = torch.float64).to(device))\n",
    "L1 = net.fastbatchtrain(x = X_star, y_proc = u_star_proc, epochs = 100000)"
   ]
  },
  {
   "cell_type": "code",
   "execution_count": 10,
   "id": "d0311c5c",
   "metadata": {
    "scrolled": false
   },
   "outputs": [
    {
     "data": {
      "image/png": "[encoded data removed]",
      "text/plain": [
       "<Figure size 640x480 with 1 Axes>"
      ]
     },
     "metadata": {},
     "output_type": "display_data"
    }
   ],
   "source": [
    "plt.plot(L1)\n",
    "plt.yscale('log')\n",
    "plt.xlabel('epochs')\n",
    "plt.ylabel('Custom Loss')\n",
    "plt.title('Training of the AllInputNet \\n lr=0.01')\n",
    "plt.savefig(f'{mtlibpath_prefix}_allinputnet001.png')"
   ]
  },
  {
   "cell_type": "code",
   "execution_count": 11,
   "id": "23bd338c",
   "metadata": {},
   "outputs": [
    {
     "name": "stderr",
     "output_type": "stream",
     "text": [
      "100%|██████████| 100000/100000 [02:07<00:00, 785.53it/s]\n"
     ]
    }
   ],
   "source": [
    "net.optimizer.param_groups[0]['lr'] = 0.001\n",
    "L2 = net.fastbatchtrain(x = X_star, y_proc = u_star_proc, epochs = 100000)"
   ]
  },
  {
   "cell_type": "code",
   "execution_count": 12,
   "id": "75f765c0",
   "metadata": {
    "scrolled": false
   },
   "outputs": [
    {
     "data": {
      "image/png": "[encoded data removed]",
      "text/plain": [
       "<Figure size 640x480 with 1 Axes>"
      ]
     },
     "metadata": {},
     "output_type": "display_data"
    }
   ],
   "source": [
    "plt.plot(L2)\n",
    "plt.yscale('log')\n",
    "plt.xlabel('epochs')\n",
    "plt.ylabel('Custom Loss')\n",
    "plt.title('Training of the AllInputNet \\n lr=0.001')\n",
    "plt.savefig(f'{mtlibpath_prefix}_allinputnet0001.png')"
   ]
  },
  {
   "cell_type": "markdown",
   "id": "ea994c61",
   "metadata": {},
   "source": [
    "## calculating myus"
   ]
  },
  {
   "cell_type": "code",
   "execution_count": 13,
   "id": "f24c8864",
   "metadata": {
    "scrolled": false
   },
   "outputs": [
    {
     "name": "stderr",
     "output_type": "stream",
     "text": [
      "100%|██████████| 7/7 [00:05<00:00,  1.28it/s]\n"
     ]
    }
   ],
   "source": [
    "torch.cuda.empty_cache()\n",
    "device = torch.device(\"cuda:0\" if torch.cuda.is_available() else \"cpu\")\n",
    "net = net.to(device)\n",
    "net.loaddata_precalculate(X_star)\n",
    "net.myureset()"
   ]
  },
  {
   "cell_type": "code",
   "execution_count": 14,
   "id": "f6e31092",
   "metadata": {},
   "outputs": [
    {
     "name": "stderr",
     "output_type": "stream",
     "text": [
      "100%|██████████| 10/10 [00:00<00:00, 91.42it/s]\n",
      "100%|██████████| 10/10 [00:00<00:00, 104.35it/s]\n",
      "100%|██████████| 10/10 [00:00<00:00, 111.28it/s]\n",
      "100%|██████████| 10/10 [00:00<00:00, 104.48it/s]\n"
     ]
    },
    {
     "data": {
      "image/png": "[encoded data removed]",
      "text/plain": [
       "<Figure size 640x480 with 1 Axes>"
      ]
     },
     "metadata": {},
     "output_type": "display_data"
    }
   ],
   "source": [
    "device = torch.device(\"cuda:0\" if torch.cuda.is_available() else \"cpu\")\n",
    "net = net.to(device)\n",
    "net.myureset()\n",
    "\n",
    "i = 0\n",
    "for lr in [10, 3, 1, 0.3]:\n",
    "    L = net.myutrain(lr=lr, epochs=10)\n",
    "    l = net.fmse().cpu().detach().numpy()\n",
    "    L += [l]\n",
    "    net.myuloss.clear()\n",
    " \n",
    "    plt.plot(range(i,i+len(L)), L, label=f'lr={lr}')\n",
    "    i+=len(L)-1\n",
    "\n",
    "plt.yscale('log')\n",
    "plt.legend()\n",
    "plt.xlabel('epochs')\n",
    "plt.ylabel('FMSE')\n",
    "plt.title('MYU Training')\n",
    "plt.tight_layout()\n",
    "plt.savefig(f'{mtlibpath_prefix}_myutraining.png')\n",
    "plt.show()"
   ]
  },
  {
   "cell_type": "markdown",
   "id": "06b2c683",
   "metadata": {},
   "source": [
    "## Visualizing and saving plot gifs"
   ]
  },
  {
   "cell_type": "code",
   "execution_count": 15,
   "id": "dc353247",
   "metadata": {},
   "outputs": [],
   "source": [
    "def process_frame(index, u_im_real, o_im_real, phase,  title):\n",
    "    fig, axs = plt.subplots(1, 3, figsize=(18, 6))\n",
    "    \n",
    "    # Display the u_pred image\n",
    "    im1 = axs[0].imshow(u_im_real[index])\n",
    "    axs[0].set_title(title + \" (u_pred) without normalization\" + f\" - Frame: {index}\")\n",
    "    axs[0].title.set_position([.5, 1.05])\n",
    "    \n",
    "    # Display the original image\n",
    "    im2 = axs[1].imshow(o_im_real[index])\n",
    "    axs[1].set_title(title + \" (original) without normalization\" + f\" - Frame: {index}\")\n",
    "    axs[1].title.set_position([.5, 1.05])\n",
    "    \n",
    "    # Display the difference image\n",
    "    im3 = axs[2].imshow(np.abs(u_im_real[index] - o_im_real[index]))\n",
    "    axs[2].set_title(title + \" (difference) without normalization\" + f\" - Frame: {index}\")\n",
    "    axs[2].title.set_position([.5, 1.05])\n",
    "    \n",
    "    # Add colorbars\n",
    "    fig.colorbar(im1, ax=axs[0], fraction=0.046, pad=0.04)\n",
    "    fig.colorbar(im2, ax=axs[1], fraction=0.046, pad=0.04)\n",
    "    fig.colorbar(im3, ax=axs[2], fraction=0.046, pad=0.04)\n",
    "    \n",
    "    # Draw the figure and store the image\n",
    "    fig.canvas.draw()\n",
    "    image = np.frombuffer(fig.canvas.tostring_rgb(), dtype='uint8')\n",
    "    image = image.reshape(fig.canvas.get_width_height()[::-1] + (3,))\n",
    "\n",
    "    plt.close(fig)\n",
    "    \n",
    "    return image"
   ]
  },
  {
   "cell_type": "code",
   "execution_count": 16,
   "id": "a85e3095",
   "metadata": {},
   "outputs": [],
   "source": [
    "def process_subframe(fig, ax, m, title):\n",
    "    \n",
    "    im = ax.imshow(m)\n",
    "    ax.title.set_position([.5, 1.05])\n",
    "    im = fig.colorbar(im, ax=ax, fraction=0.046, pad=0.04)\n",
    "    ax.set_title(title)\n",
    "    \n",
    "def process_frame(M, titles):\n",
    "    figsize = (M.shape[0], M.shape[1])\n",
    "    fig, axs = plt.subplots(*figsize, figsize=(18, 6))\n",
    "    \n",
    "    # Draw\n",
    "    for i in range(figsize[0]):\n",
    "        for j in range(figsize[1]):\n",
    "            ax = axs[i][j]\n",
    "            process_subframe(fig,axs[i][j], M[i][j],titles[i][j])\n",
    "            \n",
    "    # Draw the figure and store the image\n",
    "    fig.canvas.draw()\n",
    "    image = np.frombuffer(fig.canvas.tostring_rgb(), dtype='uint8')\n",
    "    image = image.reshape(fig.canvas.get_width_height()[::-1] + (3,))\n",
    "\n",
    "    plt.close(fig)\n",
    "    \n",
    "    return image   \n",
    "\n",
    "def create_video(M,titles, videotitle, save=True, fps=30):\n",
    "    \n",
    "    \n",
    "    num_cores = multiprocessing.cpu_count()\n",
    "#    images = Parallel(n_jobs=num_cores)(delayed(process_frame)((m,titles) for m in tqdm(M)))\n",
    "    images = [process_frame(m,titles) for m in M]\n",
    "    if save:\n",
    "        images_to_video(images, videotitle, fps=30)\n",
    "        print(\"Video successfully saved at\", videotitle)\n",
    "    \n",
    "    return None\n",
    "\n",
    "def create_video(M,titles, videotitle, save=True, fps=30):\n",
    "    \n",
    "    \n",
    "    images = [process_frame(m,titles) for m in M]\n",
    "    #Parallel(n_jobs=num_cores)(delayed(process_frame)(m, titles) for m in tqdm(M))\n",
    "    if save:\n",
    "        # Convert images to 8-bit color for video\n",
    "        images = [cv2.cvtColor(img, cv2.COLOR_RGB2BGR) for img in images]\n",
    "        height, width, _ = images[0].shape\n",
    "        video = cv2.VideoWriter(videotitle, cv2.VideoWriter_fourcc(*'mp4v'), fps, (width, height))\n",
    "        for img in images:\n",
    "            video.write(img)\n",
    "        video.release()\n",
    "        print(\"Video successfully saved at\", videotitle)\n",
    "    \n",
    "    return None"
   ]
  },
  {
   "cell_type": "code",
   "execution_count": 17,
   "id": "a58e04c3",
   "metadata": {},
   "outputs": [],
   "source": [
    "from __future__ import annotations\n",
    "import cv2\n",
    "import torch\n",
    "import imageio\n",
    "import numpy as np\n",
    "import multiprocessing\n",
    "import matplotlib.pyplot as plt\n",
    "\n",
    "from tqdm import tqdm\n",
    "from typing import List, Optional\n",
    "from joblib import Parallel, delayed\n",
    "from torch.nn.parameter import Parameter\n",
    "from IPython.display import display, Image\n",
    "\n"
   ]
  },
  {
   "cell_type": "code",
   "execution_count": 18,
   "id": "85d820d0",
   "metadata": {},
   "outputs": [],
   "source": [
    "module_sq = lambda a: np.real(a)**2 + np.imag(a)**2\n",
    "phase = lambda a: np.arcsin(np.real(a)/np.sqrt(np.real(a)**2+np.imag(a)**2))\n",
    "real_imag = lambda a: np.real(a)*np.imag(a)\n",
    "real = lambda a: np.real(a)\n",
    "imag = lambda a: np.imag(a)\n",
    "\n",
    "funlist_name = [\"module_sq\", \"phase\",\"real_imag\",\"real\",\"imag\"]\n",
    "funlist = [module_sq, phase, real_imag, real, imag]\n",
    "\n",
    "myu = myu_original[0]\n",
    "myupred = net.myu.cpu().detach().numpy()\n",
    "\n",
    "A_pred = net.predict(X_star).reshape(A_original[0].shape)"
   ]
  },
  {
   "cell_type": "code",
   "execution_count": 19,
   "id": "4f9c59c1",
   "metadata": {},
   "outputs": [],
   "source": [
    "ATenzor = np.array([np.stack([np.stack([fun(A) for fun in funlist]),\n",
    "                    np.stack([fun(Ap) for fun in funlist])]) for A, Ap in zip(A_original[0], A_pred)])"
   ]
  },
  {
   "cell_type": "code",
   "execution_count": 20,
   "id": "82f95739",
   "metadata": {},
   "outputs": [],
   "source": [
    "MTenzor = np.array([np.array([m,mp]) for m, mp in zip(myu,myupred)])"
   ]
  },
  {
   "cell_type": "code",
   "execution_count": 21,
   "id": "d4af55d0",
   "metadata": {},
   "outputs": [],
   "source": [
    "AMTenzor = np.concatenate((MTenzor[:, :, np.newaxis, :, :], ATenzor), axis=2)"
   ]
  },
  {
   "cell_type": "code",
   "execution_count": 22,
   "id": "ae2d619f",
   "metadata": {},
   "outputs": [
    {
     "ename": "NameError",
     "evalue": "name 'videofilename' is not defined",
     "output_type": "error",
     "traceback": [
      "\u001b[0;31m---------------------------------------------------------------------------\u001b[0m",
      "\u001b[0;31mNameError\u001b[0m                                 Traceback (most recent call last)",
      "\u001b[1;32m/Users/075072/Desktop/gl_pinn/src/allinputpinn-2indirectloss-mse-6plot.ipynb Cell 26\u001b[0m line \u001b[0;36m1\n\u001b[0;32m----> <a href='vscode-notebook-cell:/Users/075072/Desktop/gl_pinn/src/allinputpinn-2indirectloss-mse-6plot.ipynb#X34sZmlsZQ%3D%3D?line=0'>1</a>\u001b[0m create_video(AMTenzor, titles\u001b[39m=\u001b[39m[[\u001b[39m'\u001b[39m\u001b[39mmyu\u001b[39m\u001b[39m'\u001b[39m] \u001b[39m+\u001b[39m funlist_name]\u001b[39m*\u001b[39m\u001b[39m2\u001b[39m, videotitle \u001b[39m=\u001b[39m videofilename)\n",
      "\u001b[0;31mNameError\u001b[0m: name 'videofilename' is not defined"
     ]
    }
   ],
   "source": [
    "create_video(AMTenzor, titles=[['myu'] + funlist_name]*2, videotitle = videofilename)"
   ]
  },
  {
   "cell_type": "code",
   "execution_count": null,
   "id": "216de9ad",
   "metadata": {},
   "outputs": [],
   "source": []
  },
  {
   "cell_type": "code",
   "execution_count": null,
   "id": "af394405",
   "metadata": {},
   "outputs": [],
   "source": []
  },
  {
   "cell_type": "code",
   "execution_count": null,
   "id": "ef0e1ff6",
   "metadata": {},
   "outputs": [],
   "source": []
  },
  {
   "cell_type": "code",
   "execution_count": null,
   "id": "2b2c54f9",
   "metadata": {},
   "outputs": [],
   "source": []
  },
  {
   "cell_type": "code",
   "execution_count": null,
   "id": "a5f1dc17",
   "metadata": {},
   "outputs": [],
   "source": []
  },
  {
   "cell_type": "code",
   "execution_count": null,
   "id": "e3964479",
   "metadata": {},
   "outputs": [],
   "source": []
  },
  {
   "cell_type": "code",
   "execution_count": null,
   "id": "669c674b",
   "metadata": {},
   "outputs": [],
   "source": []
  },
  {
   "cell_type": "code",
   "execution_count": null,
   "id": "92008834",
   "metadata": {},
   "outputs": [],
   "source": []
  }
 ],
 "metadata": {
  "colab": {
   "provenance": []
  },
  "kernelspec": {
   "display_name": "Python 3 (ipykernel)",
   "language": "python",
   "name": "python3"
  },
  "language_info": {
   "codemirror_mode": {
    "name": "ipython",
    "version": 3
   },
   "file_extension": ".py",
   "mimetype": "text/x-python",
   "name": "python",
   "nbconvert_exporter": "python",
   "pygments_lexer": "ipython3",
   "version": "3.9.6"
  }
 },
 "nbformat": 4,
 "nbformat_minor": 5
}
